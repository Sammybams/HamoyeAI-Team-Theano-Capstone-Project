{
 "cells": [
  {
   "cell_type": "code",
   "execution_count": 2,
   "metadata": {},
   "outputs": [],
   "source": [
    "# Importing necessary libraries\n",
    "\n",
    "\n",
    "import numpy as np\n",
    "import pandas as pd\n",
    "import matplotlib.pyplot as plt"
   ]
  },
  {
   "cell_type": "code",
   "execution_count": 3,
   "metadata": {},
   "outputs": [],
   "source": [
    "crime = pd.read_parquet(\"africa_cleaned_for_deployment.parquet\")"
   ]
  },
  {
   "cell_type": "code",
   "execution_count": 4,
   "metadata": {},
   "outputs": [
    {
     "data": {
      "text/plain": [
       "(315940, 33)"
      ]
     },
     "execution_count": 4,
     "metadata": {},
     "output_type": "execute_result"
    }
   ],
   "source": [
    "crime.shape"
   ]
  },
  {
   "cell_type": "code",
   "execution_count": 5,
   "metadata": {},
   "outputs": [
    {
     "data": {
      "text/html": [
       "<div>\n",
       "<style scoped>\n",
       "    .dataframe tbody tr th:only-of-type {\n",
       "        vertical-align: middle;\n",
       "    }\n",
       "\n",
       "    .dataframe tbody tr th {\n",
       "        vertical-align: top;\n",
       "    }\n",
       "\n",
       "    .dataframe thead th {\n",
       "        text-align: right;\n",
       "    }\n",
       "</style>\n",
       "<table border=\"1\" class=\"dataframe\">\n",
       "  <thead>\n",
       "    <tr style=\"text-align: right;\">\n",
       "      <th></th>\n",
       "      <th>EVENT_ID_CNTY</th>\n",
       "      <th>EVENT_DATE</th>\n",
       "      <th>YEAR</th>\n",
       "      <th>TIME_PRECISION</th>\n",
       "      <th>DISORDER_TYPE</th>\n",
       "      <th>EVENT_TYPE</th>\n",
       "      <th>SUB_EVENT_TYPE</th>\n",
       "      <th>ACTOR1</th>\n",
       "      <th>ASSOC_ACTOR_1</th>\n",
       "      <th>INTER1</th>\n",
       "      <th>...</th>\n",
       "      <th>LONGITUDE</th>\n",
       "      <th>GEO_PRECISION</th>\n",
       "      <th>SOURCE</th>\n",
       "      <th>SOURCE_SCALE</th>\n",
       "      <th>NOTES</th>\n",
       "      <th>FATALITIES</th>\n",
       "      <th>TAGS</th>\n",
       "      <th>TIMESTAMP</th>\n",
       "      <th>fatalites-binned</th>\n",
       "      <th>fatalities-binned-encoded</th>\n",
       "    </tr>\n",
       "  </thead>\n",
       "  <tbody>\n",
       "    <tr>\n",
       "      <th>0</th>\n",
       "      <td>ALG1</td>\n",
       "      <td>1997-01-01</td>\n",
       "      <td>1997</td>\n",
       "      <td>1</td>\n",
       "      <td>Political violence</td>\n",
       "      <td>Violence against civilians</td>\n",
       "      <td>Attack</td>\n",
       "      <td>GIA: Armed Islamic Group</td>\n",
       "      <td>None</td>\n",
       "      <td>2</td>\n",
       "      <td>...</td>\n",
       "      <td>2.789</td>\n",
       "      <td>1</td>\n",
       "      <td>Algeria Watch</td>\n",
       "      <td>Other</td>\n",
       "      <td>5 January: Beheading of 5 citizens in Douaouda...</td>\n",
       "      <td>5</td>\n",
       "      <td>None</td>\n",
       "      <td>1582579226</td>\n",
       "      <td>2_TO_10</td>\n",
       "      <td>3</td>\n",
       "    </tr>\n",
       "    <tr>\n",
       "      <th>1</th>\n",
       "      <td>ALG2</td>\n",
       "      <td>1997-01-02</td>\n",
       "      <td>1997</td>\n",
       "      <td>1</td>\n",
       "      <td>Political violence</td>\n",
       "      <td>Violence against civilians</td>\n",
       "      <td>Attack</td>\n",
       "      <td>GIA: Armed Islamic Group</td>\n",
       "      <td>None</td>\n",
       "      <td>2</td>\n",
       "      <td>...</td>\n",
       "      <td>0.883</td>\n",
       "      <td>1</td>\n",
       "      <td>Algeria Watch</td>\n",
       "      <td>Other</td>\n",
       "      <td>Two citizens were beheaded in Hassasna.</td>\n",
       "      <td>2</td>\n",
       "      <td>None</td>\n",
       "      <td>1582579226</td>\n",
       "      <td>2_TO_10</td>\n",
       "      <td>3</td>\n",
       "    </tr>\n",
       "    <tr>\n",
       "      <th>2</th>\n",
       "      <td>ALG3</td>\n",
       "      <td>1997-01-03</td>\n",
       "      <td>1997</td>\n",
       "      <td>1</td>\n",
       "      <td>Political violence</td>\n",
       "      <td>Violence against civilians</td>\n",
       "      <td>Attack</td>\n",
       "      <td>GIA: Armed Islamic Group</td>\n",
       "      <td>None</td>\n",
       "      <td>2</td>\n",
       "      <td>...</td>\n",
       "      <td>-0.290</td>\n",
       "      <td>1</td>\n",
       "      <td>Algeria Watch</td>\n",
       "      <td>Other</td>\n",
       "      <td>Two citizens were killed in a raid on the vill...</td>\n",
       "      <td>2</td>\n",
       "      <td>None</td>\n",
       "      <td>1582579226</td>\n",
       "      <td>2_TO_10</td>\n",
       "      <td>3</td>\n",
       "    </tr>\n",
       "    <tr>\n",
       "      <th>3</th>\n",
       "      <td>ALG4</td>\n",
       "      <td>1997-01-04</td>\n",
       "      <td>1997</td>\n",
       "      <td>1</td>\n",
       "      <td>Political violence</td>\n",
       "      <td>Violence against civilians</td>\n",
       "      <td>Attack</td>\n",
       "      <td>GIA: Armed Islamic Group</td>\n",
       "      <td>None</td>\n",
       "      <td>2</td>\n",
       "      <td>...</td>\n",
       "      <td>2.829</td>\n",
       "      <td>1</td>\n",
       "      <td>Algeria Watch</td>\n",
       "      <td>Other</td>\n",
       "      <td>4 January: 16 citizens were murdered in the vi...</td>\n",
       "      <td>16</td>\n",
       "      <td>None</td>\n",
       "      <td>1582579226</td>\n",
       "      <td>11_TO_50</td>\n",
       "      <td>1</td>\n",
       "    </tr>\n",
       "    <tr>\n",
       "      <th>4</th>\n",
       "      <td>ALG5</td>\n",
       "      <td>1997-01-05</td>\n",
       "      <td>1997</td>\n",
       "      <td>1</td>\n",
       "      <td>Political violence</td>\n",
       "      <td>Violence against civilians</td>\n",
       "      <td>Attack</td>\n",
       "      <td>GIA: Armed Islamic Group</td>\n",
       "      <td>None</td>\n",
       "      <td>2</td>\n",
       "      <td>...</td>\n",
       "      <td>2.789</td>\n",
       "      <td>1</td>\n",
       "      <td>Algeria Watch</td>\n",
       "      <td>Other</td>\n",
       "      <td>5 January: Killing of 18 citizens in the Olivi...</td>\n",
       "      <td>18</td>\n",
       "      <td>None</td>\n",
       "      <td>1582579226</td>\n",
       "      <td>11_TO_50</td>\n",
       "      <td>1</td>\n",
       "    </tr>\n",
       "  </tbody>\n",
       "</table>\n",
       "<p>5 rows × 33 columns</p>\n",
       "</div>"
      ],
      "text/plain": [
       "  EVENT_ID_CNTY EVENT_DATE  YEAR  TIME_PRECISION       DISORDER_TYPE  \\\n",
       "0          ALG1 1997-01-01  1997               1  Political violence   \n",
       "1          ALG2 1997-01-02  1997               1  Political violence   \n",
       "2          ALG3 1997-01-03  1997               1  Political violence   \n",
       "3          ALG4 1997-01-04  1997               1  Political violence   \n",
       "4          ALG5 1997-01-05  1997               1  Political violence   \n",
       "\n",
       "                   EVENT_TYPE SUB_EVENT_TYPE                    ACTOR1  \\\n",
       "0  Violence against civilians         Attack  GIA: Armed Islamic Group   \n",
       "1  Violence against civilians         Attack  GIA: Armed Islamic Group   \n",
       "2  Violence against civilians         Attack  GIA: Armed Islamic Group   \n",
       "3  Violence against civilians         Attack  GIA: Armed Islamic Group   \n",
       "4  Violence against civilians         Attack  GIA: Armed Islamic Group   \n",
       "\n",
       "  ASSOC_ACTOR_1  INTER1  ... LONGITUDE GEO_PRECISION         SOURCE  \\\n",
       "0          None       2  ...     2.789             1  Algeria Watch   \n",
       "1          None       2  ...     0.883             1  Algeria Watch   \n",
       "2          None       2  ...    -0.290             1  Algeria Watch   \n",
       "3          None       2  ...     2.829             1  Algeria Watch   \n",
       "4          None       2  ...     2.789             1  Algeria Watch   \n",
       "\n",
       "   SOURCE_SCALE                                              NOTES  \\\n",
       "0         Other  5 January: Beheading of 5 citizens in Douaouda...   \n",
       "1         Other            Two citizens were beheaded in Hassasna.   \n",
       "2         Other  Two citizens were killed in a raid on the vill...   \n",
       "3         Other  4 January: 16 citizens were murdered in the vi...   \n",
       "4         Other  5 January: Killing of 18 citizens in the Olivi...   \n",
       "\n",
       "   FATALITIES  TAGS   TIMESTAMP fatalites-binned fatalities-binned-encoded  \n",
       "0           5  None  1582579226          2_TO_10                         3  \n",
       "1           2  None  1582579226          2_TO_10                         3  \n",
       "2           2  None  1582579226          2_TO_10                         3  \n",
       "3          16  None  1582579226         11_TO_50                         1  \n",
       "4          18  None  1582579226         11_TO_50                         1  \n",
       "\n",
       "[5 rows x 33 columns]"
      ]
     },
     "execution_count": 5,
     "metadata": {},
     "output_type": "execute_result"
    }
   ],
   "source": [
    "crime.head()"
   ]
  },
  {
   "cell_type": "code",
   "execution_count": 6,
   "metadata": {},
   "outputs": [
    {
     "data": {
      "text/plain": [
       "EVENT_ID_CNTY                     0\n",
       "EVENT_DATE                        0\n",
       "YEAR                              0\n",
       "TIME_PRECISION                    0\n",
       "DISORDER_TYPE                     0\n",
       "EVENT_TYPE                        0\n",
       "SUB_EVENT_TYPE                    0\n",
       "ACTOR1                            0\n",
       "ASSOC_ACTOR_1                231997\n",
       "INTER1                            0\n",
       "ACTOR2                        86136\n",
       "ASSOC_ACTOR_2                253699\n",
       "INTER2                            0\n",
       "INTERACTION                       0\n",
       "CIVILIAN_TARGETING           220363\n",
       "ISO                               0\n",
       "REGION                            0\n",
       "COUNTRY                           0\n",
       "ADMIN1                            0\n",
       "ADMIN2                         2451\n",
       "ADMIN3                       161453\n",
       "LOCATION                          0\n",
       "LATITUDE                          0\n",
       "LONGITUDE                         0\n",
       "GEO_PRECISION                     0\n",
       "SOURCE                            0\n",
       "SOURCE_SCALE                      0\n",
       "NOTES                             0\n",
       "FATALITIES                        0\n",
       "TAGS                         255561\n",
       "TIMESTAMP                         0\n",
       "fatalites-binned                  0\n",
       "fatalities-binned-encoded         0\n",
       "dtype: int64"
      ]
     },
     "execution_count": 6,
     "metadata": {},
     "output_type": "execute_result"
    }
   ],
   "source": [
    "crime.isna().sum()"
   ]
  },
  {
   "cell_type": "code",
   "execution_count": 7,
   "metadata": {},
   "outputs": [],
   "source": [
    "## Checking missing values in different columns"
   ]
  },
  {
   "cell_type": "code",
   "execution_count": 8,
   "metadata": {},
   "outputs": [],
   "source": [
    "missing_admin2 = crime.loc[crime['ADMIN2'].isna()]"
   ]
  },
  {
   "cell_type": "code",
   "execution_count": 9,
   "metadata": {},
   "outputs": [
    {
     "data": {
      "text/plain": [
       "COUNTRY\n",
       "Algeria                                         776\n",
       "Benin                                             1\n",
       "Comoros                                          11\n",
       "Democratic Republic of Congo                    796\n",
       "Lesotho                                         220\n",
       "Mauritius                                       357\n",
       "Mayotte                                         121\n",
       "Nigeria                                           1\n",
       "Republic of Congo                                 1\n",
       "Reunion                                           2\n",
       "Rwanda                                          127\n",
       "Saint Helena, Ascension and Tristan da Cunha      2\n",
       "Sao Tome and Principe                            25\n",
       "Seychelles                                       11\n",
       "Name: COUNTRY, dtype: int64"
      ]
     },
     "execution_count": 9,
     "metadata": {},
     "output_type": "execute_result"
    }
   ],
   "source": [
    "missing_admin2.groupby(['COUNTRY'])['COUNTRY'].count()"
   ]
  },
  {
   "cell_type": "code",
   "execution_count": 10,
   "metadata": {},
   "outputs": [
    {
     "data": {
      "text/html": [
       "<div>\n",
       "<style scoped>\n",
       "    .dataframe tbody tr th:only-of-type {\n",
       "        vertical-align: middle;\n",
       "    }\n",
       "\n",
       "    .dataframe tbody tr th {\n",
       "        vertical-align: top;\n",
       "    }\n",
       "\n",
       "    .dataframe thead th {\n",
       "        text-align: right;\n",
       "    }\n",
       "</style>\n",
       "<table border=\"1\" class=\"dataframe\">\n",
       "  <thead>\n",
       "    <tr style=\"text-align: right;\">\n",
       "      <th></th>\n",
       "      <th>ADMIN1</th>\n",
       "      <th>ADMIN2</th>\n",
       "      <th>ADMIN3</th>\n",
       "      <th>LOCATION</th>\n",
       "      <th>LATITUDE</th>\n",
       "      <th>LONGITUDE</th>\n",
       "    </tr>\n",
       "  </thead>\n",
       "  <tbody>\n",
       "    <tr>\n",
       "      <th>176151</th>\n",
       "      <td>Bel Air</td>\n",
       "      <td>None</td>\n",
       "      <td>None</td>\n",
       "      <td>Victoria</td>\n",
       "      <td>-4.623</td>\n",
       "      <td>55.452</td>\n",
       "    </tr>\n",
       "    <tr>\n",
       "      <th>176152</th>\n",
       "      <td>Bel Air</td>\n",
       "      <td>None</td>\n",
       "      <td>None</td>\n",
       "      <td>Victoria</td>\n",
       "      <td>-4.623</td>\n",
       "      <td>55.452</td>\n",
       "    </tr>\n",
       "    <tr>\n",
       "      <th>176153</th>\n",
       "      <td>Bel Air</td>\n",
       "      <td>None</td>\n",
       "      <td>None</td>\n",
       "      <td>Victoria</td>\n",
       "      <td>-4.623</td>\n",
       "      <td>55.452</td>\n",
       "    </tr>\n",
       "    <tr>\n",
       "      <th>176154</th>\n",
       "      <td>Bel Air</td>\n",
       "      <td>None</td>\n",
       "      <td>None</td>\n",
       "      <td>Victoria</td>\n",
       "      <td>-4.623</td>\n",
       "      <td>55.452</td>\n",
       "    </tr>\n",
       "    <tr>\n",
       "      <th>176155</th>\n",
       "      <td>Bel Air</td>\n",
       "      <td>None</td>\n",
       "      <td>None</td>\n",
       "      <td>Victoria</td>\n",
       "      <td>-4.623</td>\n",
       "      <td>55.452</td>\n",
       "    </tr>\n",
       "    <tr>\n",
       "      <th>176156</th>\n",
       "      <td>Bel Air</td>\n",
       "      <td>None</td>\n",
       "      <td>None</td>\n",
       "      <td>Victoria</td>\n",
       "      <td>-4.623</td>\n",
       "      <td>55.452</td>\n",
       "    </tr>\n",
       "    <tr>\n",
       "      <th>176157</th>\n",
       "      <td>Bel Air</td>\n",
       "      <td>None</td>\n",
       "      <td>None</td>\n",
       "      <td>Victoria</td>\n",
       "      <td>-4.623</td>\n",
       "      <td>55.452</td>\n",
       "    </tr>\n",
       "    <tr>\n",
       "      <th>176158</th>\n",
       "      <td>Mont Fleuri</td>\n",
       "      <td>None</td>\n",
       "      <td>None</td>\n",
       "      <td>Mont Fleuri</td>\n",
       "      <td>-4.633</td>\n",
       "      <td>55.458</td>\n",
       "    </tr>\n",
       "    <tr>\n",
       "      <th>176159</th>\n",
       "      <td>Bel Air</td>\n",
       "      <td>None</td>\n",
       "      <td>None</td>\n",
       "      <td>Bel Air</td>\n",
       "      <td>-4.629</td>\n",
       "      <td>55.445</td>\n",
       "    </tr>\n",
       "    <tr>\n",
       "      <th>176160</th>\n",
       "      <td>Bel Air</td>\n",
       "      <td>None</td>\n",
       "      <td>None</td>\n",
       "      <td>Victoria</td>\n",
       "      <td>-4.623</td>\n",
       "      <td>55.452</td>\n",
       "    </tr>\n",
       "    <tr>\n",
       "      <th>176161</th>\n",
       "      <td>Baie Lazare</td>\n",
       "      <td>None</td>\n",
       "      <td>None</td>\n",
       "      <td>Anse La Mouche</td>\n",
       "      <td>-4.735</td>\n",
       "      <td>55.492</td>\n",
       "    </tr>\n",
       "  </tbody>\n",
       "</table>\n",
       "</div>"
      ],
      "text/plain": [
       "             ADMIN1 ADMIN2 ADMIN3        LOCATION  LATITUDE  LONGITUDE\n",
       "176151      Bel Air   None   None        Victoria    -4.623     55.452\n",
       "176152      Bel Air   None   None        Victoria    -4.623     55.452\n",
       "176153      Bel Air   None   None        Victoria    -4.623     55.452\n",
       "176154      Bel Air   None   None        Victoria    -4.623     55.452\n",
       "176155      Bel Air   None   None        Victoria    -4.623     55.452\n",
       "176156      Bel Air   None   None        Victoria    -4.623     55.452\n",
       "176157      Bel Air   None   None        Victoria    -4.623     55.452\n",
       "176158  Mont Fleuri   None   None     Mont Fleuri    -4.633     55.458\n",
       "176159      Bel Air   None   None         Bel Air    -4.629     55.445\n",
       "176160      Bel Air   None   None        Victoria    -4.623     55.452\n",
       "176161  Baie Lazare   None   None  Anse La Mouche    -4.735     55.492"
      ]
     },
     "execution_count": 10,
     "metadata": {},
     "output_type": "execute_result"
    }
   ],
   "source": [
    "crime.loc[crime['COUNTRY']=='Seychelles'][['ADMIN1', 'ADMIN2', 'ADMIN3', 'LOCATION', 'LATITUDE', 'LONGITUDE']]"
   ]
  },
  {
   "cell_type": "markdown",
   "metadata": {},
   "source": [
    "### Defining Features for Selection"
   ]
  },
  {
   "cell_type": "code",
   "execution_count": 11,
   "metadata": {},
   "outputs": [],
   "source": [
    "features = ['DISORDER_TYPE', 'REGION', 'COUNTRY', 'ADMIN1', 'LOCATION', 'EVENT_TYPE', 'SUB_EVENT_TYPE',\n",
    "            'ACTOR1', 'INTER1', 'INTER2', 'INTERACTION']\n",
    "target = ['FATALITIES']"
   ]
  },
  {
   "cell_type": "code",
   "execution_count": 12,
   "metadata": {},
   "outputs": [
    {
     "data": {
      "text/plain": [
       "COUNTRY\n",
       "Djibouti        1\n",
       "Ethiopia        4\n",
       "Kenya         530\n",
       "Somalia     11096\n",
       "Tanzania        6\n",
       "Uganda          3\n",
       "Name: COUNTRY, dtype: int64"
      ]
     },
     "execution_count": 12,
     "metadata": {},
     "output_type": "execute_result"
    }
   ],
   "source": [
    "crime.loc[crime['ACTOR1']=='Al Shabaab'].groupby('COUNTRY')['COUNTRY'].count()"
   ]
  },
  {
   "cell_type": "code",
   "execution_count": 13,
   "metadata": {},
   "outputs": [
    {
     "data": {
      "text/plain": [
       "ACTOR1\n",
       "Al Shabaab    19739\n",
       "Name: FATALITIES, dtype: int64"
      ]
     },
     "execution_count": 13,
     "metadata": {},
     "output_type": "execute_result"
    }
   ],
   "source": [
    "crime.loc[crime['ACTOR1']=='Al Shabaab'].groupby('ACTOR1')['FATALITIES'].sum()"
   ]
  },
  {
   "cell_type": "markdown",
   "metadata": {},
   "source": [
    "### Checking Missing Values in ADMIN1"
   ]
  },
  {
   "cell_type": "code",
   "execution_count": 14,
   "metadata": {},
   "outputs": [],
   "source": [
    "missing_admin1 = crime.loc[crime['ADMIN1'].isna()]"
   ]
  },
  {
   "cell_type": "code",
   "execution_count": 15,
   "metadata": {},
   "outputs": [
    {
     "data": {
      "text/html": [
       "<div>\n",
       "<style scoped>\n",
       "    .dataframe tbody tr th:only-of-type {\n",
       "        vertical-align: middle;\n",
       "    }\n",
       "\n",
       "    .dataframe tbody tr th {\n",
       "        vertical-align: top;\n",
       "    }\n",
       "\n",
       "    .dataframe thead th {\n",
       "        text-align: right;\n",
       "    }\n",
       "</style>\n",
       "<table border=\"1\" class=\"dataframe\">\n",
       "  <thead>\n",
       "    <tr style=\"text-align: right;\">\n",
       "      <th></th>\n",
       "      <th>COUNTRY</th>\n",
       "      <th>ADMIN1</th>\n",
       "      <th>ADMIN2</th>\n",
       "      <th>ADMIN3</th>\n",
       "      <th>LOCATION</th>\n",
       "      <th>LATITUDE</th>\n",
       "      <th>LONGITUDE</th>\n",
       "    </tr>\n",
       "  </thead>\n",
       "  <tbody>\n",
       "  </tbody>\n",
       "</table>\n",
       "</div>"
      ],
      "text/plain": [
       "Empty DataFrame\n",
       "Columns: [COUNTRY, ADMIN1, ADMIN2, ADMIN3, LOCATION, LATITUDE, LONGITUDE]\n",
       "Index: []"
      ]
     },
     "execution_count": 15,
     "metadata": {},
     "output_type": "execute_result"
    }
   ],
   "source": [
    "missing_admin1[['COUNTRY', 'ADMIN1', 'ADMIN2', 'ADMIN3', 'LOCATION', 'LATITUDE', 'LONGITUDE']]"
   ]
  },
  {
   "cell_type": "code",
   "execution_count": 16,
   "metadata": {},
   "outputs": [
    {
     "data": {
      "text/html": [
       "<div>\n",
       "<style scoped>\n",
       "    .dataframe tbody tr th:only-of-type {\n",
       "        vertical-align: middle;\n",
       "    }\n",
       "\n",
       "    .dataframe tbody tr th {\n",
       "        vertical-align: top;\n",
       "    }\n",
       "\n",
       "    .dataframe thead th {\n",
       "        text-align: right;\n",
       "    }\n",
       "</style>\n",
       "<table border=\"1\" class=\"dataframe\">\n",
       "  <thead>\n",
       "    <tr style=\"text-align: right;\">\n",
       "      <th></th>\n",
       "      <th>EVENT_ID_CNTY</th>\n",
       "      <th>EVENT_DATE</th>\n",
       "      <th>YEAR</th>\n",
       "      <th>TIME_PRECISION</th>\n",
       "      <th>DISORDER_TYPE</th>\n",
       "      <th>EVENT_TYPE</th>\n",
       "      <th>SUB_EVENT_TYPE</th>\n",
       "      <th>ACTOR1</th>\n",
       "      <th>ASSOC_ACTOR_1</th>\n",
       "      <th>INTER1</th>\n",
       "      <th>...</th>\n",
       "      <th>LONGITUDE</th>\n",
       "      <th>GEO_PRECISION</th>\n",
       "      <th>SOURCE</th>\n",
       "      <th>SOURCE_SCALE</th>\n",
       "      <th>NOTES</th>\n",
       "      <th>FATALITIES</th>\n",
       "      <th>TAGS</th>\n",
       "      <th>TIMESTAMP</th>\n",
       "      <th>fatalites-binned</th>\n",
       "      <th>fatalities-binned-encoded</th>\n",
       "    </tr>\n",
       "  </thead>\n",
       "  <tbody>\n",
       "    <tr>\n",
       "      <th>71777</th>\n",
       "      <td>BEN400</td>\n",
       "      <td>2021-05-31</td>\n",
       "      <td>2021</td>\n",
       "      <td>1</td>\n",
       "      <td>Political violence</td>\n",
       "      <td>Violence against civilians</td>\n",
       "      <td>Attack</td>\n",
       "      <td>Pirates (Benin)</td>\n",
       "      <td>None</td>\n",
       "      <td>3</td>\n",
       "      <td>...</td>\n",
       "      <td>2.164</td>\n",
       "      <td>3</td>\n",
       "      <td>AFP; Xinhua; Actu Benin</td>\n",
       "      <td>Subnational-International</td>\n",
       "      <td>On 31 May 2021, sea pirates attacked a fishing...</td>\n",
       "      <td>0</td>\n",
       "      <td>None</td>\n",
       "      <td>1624310472</td>\n",
       "      <td>NO_FATALITY</td>\n",
       "      <td>6</td>\n",
       "    </tr>\n",
       "  </tbody>\n",
       "</table>\n",
       "<p>1 rows × 33 columns</p>\n",
       "</div>"
      ],
      "text/plain": [
       "      EVENT_ID_CNTY EVENT_DATE  YEAR  TIME_PRECISION       DISORDER_TYPE  \\\n",
       "71777        BEN400 2021-05-31  2021               1  Political violence   \n",
       "\n",
       "                       EVENT_TYPE SUB_EVENT_TYPE           ACTOR1  \\\n",
       "71777  Violence against civilians         Attack  Pirates (Benin)   \n",
       "\n",
       "      ASSOC_ACTOR_1  INTER1  ... LONGITUDE GEO_PRECISION  \\\n",
       "71777          None       3  ...     2.164             3   \n",
       "\n",
       "                        SOURCE               SOURCE_SCALE  \\\n",
       "71777  AFP; Xinhua; Actu Benin  Subnational-International   \n",
       "\n",
       "                                                   NOTES  FATALITIES  TAGS  \\\n",
       "71777  On 31 May 2021, sea pirates attacked a fishing...           0  None   \n",
       "\n",
       "        TIMESTAMP fatalites-binned fatalities-binned-encoded  \n",
       "71777  1624310472      NO_FATALITY                         6  \n",
       "\n",
       "[1 rows x 33 columns]"
      ]
     },
     "execution_count": 16,
     "metadata": {},
     "output_type": "execute_result"
    }
   ],
   "source": [
    "crime.loc[crime['LOCATION']=='Coast of Benin']"
   ]
  },
  {
   "cell_type": "code",
   "execution_count": 17,
   "metadata": {},
   "outputs": [
    {
     "data": {
      "text/html": [
       "<div>\n",
       "<style scoped>\n",
       "    .dataframe tbody tr th:only-of-type {\n",
       "        vertical-align: middle;\n",
       "    }\n",
       "\n",
       "    .dataframe tbody tr th {\n",
       "        vertical-align: top;\n",
       "    }\n",
       "\n",
       "    .dataframe thead th {\n",
       "        text-align: right;\n",
       "    }\n",
       "</style>\n",
       "<table border=\"1\" class=\"dataframe\">\n",
       "  <thead>\n",
       "    <tr style=\"text-align: right;\">\n",
       "      <th></th>\n",
       "      <th>EVENT_ID_CNTY</th>\n",
       "      <th>EVENT_DATE</th>\n",
       "      <th>YEAR</th>\n",
       "      <th>TIME_PRECISION</th>\n",
       "      <th>DISORDER_TYPE</th>\n",
       "      <th>EVENT_TYPE</th>\n",
       "      <th>SUB_EVENT_TYPE</th>\n",
       "      <th>ACTOR1</th>\n",
       "      <th>ASSOC_ACTOR_1</th>\n",
       "      <th>INTER1</th>\n",
       "      <th>...</th>\n",
       "      <th>LONGITUDE</th>\n",
       "      <th>GEO_PRECISION</th>\n",
       "      <th>SOURCE</th>\n",
       "      <th>SOURCE_SCALE</th>\n",
       "      <th>NOTES</th>\n",
       "      <th>FATALITIES</th>\n",
       "      <th>TAGS</th>\n",
       "      <th>TIMESTAMP</th>\n",
       "      <th>fatalites-binned</th>\n",
       "      <th>fatalities-binned-encoded</th>\n",
       "    </tr>\n",
       "  </thead>\n",
       "  <tbody>\n",
       "    <tr>\n",
       "      <th>155784</th>\n",
       "      <td>NIG27797</td>\n",
       "      <td>2018-11-11</td>\n",
       "      <td>2018</td>\n",
       "      <td>1</td>\n",
       "      <td>Political violence</td>\n",
       "      <td>Battles</td>\n",
       "      <td>Armed clash</td>\n",
       "      <td>Military Forces of Nigeria (2015-)</td>\n",
       "      <td>None</td>\n",
       "      <td>1</td>\n",
       "      <td>...</td>\n",
       "      <td>1.328</td>\n",
       "      <td>3</td>\n",
       "      <td>Risk and Strategic Management, Corporation</td>\n",
       "      <td>Local partner-International</td>\n",
       "      <td>On 11 November 2018, the Nigerian Navy interce...</td>\n",
       "      <td>0</td>\n",
       "      <td>None</td>\n",
       "      <td>1666026860</td>\n",
       "      <td>NO_FATALITY</td>\n",
       "      <td>6</td>\n",
       "    </tr>\n",
       "  </tbody>\n",
       "</table>\n",
       "<p>1 rows × 33 columns</p>\n",
       "</div>"
      ],
      "text/plain": [
       "       EVENT_ID_CNTY EVENT_DATE  YEAR  TIME_PRECISION       DISORDER_TYPE  \\\n",
       "155784      NIG27797 2018-11-11  2018               1  Political violence   \n",
       "\n",
       "       EVENT_TYPE SUB_EVENT_TYPE                              ACTOR1  \\\n",
       "155784    Battles    Armed clash  Military Forces of Nigeria (2015-)   \n",
       "\n",
       "       ASSOC_ACTOR_1  INTER1  ... LONGITUDE GEO_PRECISION  \\\n",
       "155784          None       1  ...     1.328             3   \n",
       "\n",
       "                                            SOURCE  \\\n",
       "155784  Risk and Strategic Management, Corporation   \n",
       "\n",
       "                       SOURCE_SCALE  \\\n",
       "155784  Local partner-International   \n",
       "\n",
       "                                                    NOTES  FATALITIES  TAGS  \\\n",
       "155784  On 11 November 2018, the Nigerian Navy interce...           0  None   \n",
       "\n",
       "         TIMESTAMP fatalites-binned fatalities-binned-encoded  \n",
       "155784  1666026860      NO_FATALITY                         6  \n",
       "\n",
       "[1 rows x 33 columns]"
      ]
     },
     "execution_count": 17,
     "metadata": {},
     "output_type": "execute_result"
    }
   ],
   "source": [
    "crime.loc[crime['LOCATION']=='Gulf of Guinea']"
   ]
  },
  {
   "cell_type": "markdown",
   "metadata": {},
   "source": [
    "### Feature Selection"
   ]
  },
  {
   "cell_type": "code",
   "execution_count": 18,
   "metadata": {},
   "outputs": [],
   "source": [
    "X = crime[features]\n",
    "y = crime[\"FATALITIES\"]"
   ]
  },
  {
   "cell_type": "code",
   "execution_count": 19,
   "metadata": {},
   "outputs": [
    {
     "data": {
      "text/plain": [
       "(315940, 11)"
      ]
     },
     "execution_count": 19,
     "metadata": {},
     "output_type": "execute_result"
    }
   ],
   "source": [
    "X.shape"
   ]
  },
  {
   "cell_type": "code",
   "execution_count": 20,
   "metadata": {},
   "outputs": [
    {
     "data": {
      "text/plain": [
       "DISORDER_TYPE     0\n",
       "REGION            0\n",
       "COUNTRY           0\n",
       "ADMIN1            0\n",
       "LOCATION          0\n",
       "EVENT_TYPE        0\n",
       "SUB_EVENT_TYPE    0\n",
       "ACTOR1            0\n",
       "INTER1            0\n",
       "INTER2            0\n",
       "INTERACTION       0\n",
       "dtype: int64"
      ]
     },
     "execution_count": 20,
     "metadata": {},
     "output_type": "execute_result"
    }
   ],
   "source": [
    "X.isna().sum()"
   ]
  },
  {
   "cell_type": "code",
   "execution_count": 21,
   "metadata": {},
   "outputs": [
    {
     "name": "stderr",
     "output_type": "stream",
     "text": [
      "/anaconda/envs/azureml_py38/lib/python3.8/site-packages/pandas/core/indexing.py:1763: SettingWithCopyWarning: \n",
      "A value is trying to be set on a copy of a slice from a DataFrame.\n",
      "Try using .loc[row_indexer,col_indexer] = value instead\n",
      "\n",
      "See the caveats in the documentation: https://pandas.pydata.org/pandas-docs/stable/user_guide/indexing.html#returning-a-view-versus-a-copy\n",
      "  isetter(loc, value)\n"
     ]
    }
   ],
   "source": [
    "# Dealing with missing values in ADMIN1\n",
    "\n",
    "X.loc[71777:71777,'ADMIN1'] = \"Oueme\"\n",
    "X.loc[155784:155784,'ADMIN1'] = \"Bayelsa\""
   ]
  },
  {
   "cell_type": "code",
   "execution_count": 22,
   "metadata": {},
   "outputs": [
    {
     "data": {
      "text/plain": [
       "DISORDER_TYPE     0\n",
       "REGION            0\n",
       "COUNTRY           0\n",
       "ADMIN1            0\n",
       "LOCATION          0\n",
       "EVENT_TYPE        0\n",
       "SUB_EVENT_TYPE    0\n",
       "ACTOR1            0\n",
       "INTER1            0\n",
       "INTER2            0\n",
       "INTERACTION       0\n",
       "dtype: int64"
      ]
     },
     "execution_count": 22,
     "metadata": {},
     "output_type": "execute_result"
    }
   ],
   "source": [
    "X.isna().sum()"
   ]
  },
  {
   "cell_type": "markdown",
   "metadata": {},
   "source": [
    "### Performing Binning on Fatalities"
   ]
  },
  {
   "cell_type": "code",
   "execution_count": 23,
   "metadata": {},
   "outputs": [],
   "source": [
    "fatalities_bins = [-1, 0, 1, 10, 50, 100, 500, 1350]\n",
    "group_names = [\"NO_FATALITY\", \"1_FATALITY\", \"2_TO_10\", \"11_TO_50\", \"51_TO_100\", \"101_TO_500\", \"501_TO_1350\"]"
   ]
  },
  {
   "cell_type": "code",
   "execution_count": 24,
   "metadata": {},
   "outputs": [
    {
     "data": {
      "text/html": [
       "<div>\n",
       "<style scoped>\n",
       "    .dataframe tbody tr th:only-of-type {\n",
       "        vertical-align: middle;\n",
       "    }\n",
       "\n",
       "    .dataframe tbody tr th {\n",
       "        vertical-align: top;\n",
       "    }\n",
       "\n",
       "    .dataframe thead th {\n",
       "        text-align: right;\n",
       "    }\n",
       "</style>\n",
       "<table border=\"1\" class=\"dataframe\">\n",
       "  <thead>\n",
       "    <tr style=\"text-align: right;\">\n",
       "      <th></th>\n",
       "      <th>FATALITIES</th>\n",
       "      <th>fatalites-binned</th>\n",
       "    </tr>\n",
       "  </thead>\n",
       "  <tbody>\n",
       "    <tr>\n",
       "      <th>0</th>\n",
       "      <td>5</td>\n",
       "      <td>2_TO_10</td>\n",
       "    </tr>\n",
       "    <tr>\n",
       "      <th>1</th>\n",
       "      <td>2</td>\n",
       "      <td>2_TO_10</td>\n",
       "    </tr>\n",
       "    <tr>\n",
       "      <th>2</th>\n",
       "      <td>2</td>\n",
       "      <td>2_TO_10</td>\n",
       "    </tr>\n",
       "    <tr>\n",
       "      <th>3</th>\n",
       "      <td>16</td>\n",
       "      <td>11_TO_50</td>\n",
       "    </tr>\n",
       "    <tr>\n",
       "      <th>4</th>\n",
       "      <td>18</td>\n",
       "      <td>11_TO_50</td>\n",
       "    </tr>\n",
       "  </tbody>\n",
       "</table>\n",
       "</div>"
      ],
      "text/plain": [
       "   FATALITIES fatalites-binned\n",
       "0           5          2_TO_10\n",
       "1           2          2_TO_10\n",
       "2           2          2_TO_10\n",
       "3          16         11_TO_50\n",
       "4          18         11_TO_50"
      ]
     },
     "execution_count": 24,
     "metadata": {},
     "output_type": "execute_result"
    }
   ],
   "source": [
    "crime[\"fatalites-binned\"] = pd.cut(crime[\"FATALITIES\"], fatalities_bins, labels=group_names, include_lowest = True)\n",
    "crime[['FATALITIES', 'fatalites-binned']].head()"
   ]
  },
  {
   "cell_type": "markdown",
   "metadata": {},
   "source": [
    "## Label Encoding on Target variable and other columns"
   ]
  },
  {
   "cell_type": "code",
   "execution_count": 25,
   "metadata": {},
   "outputs": [],
   "source": [
    "from sklearn.preprocessing import LabelEncoder"
   ]
  },
  {
   "cell_type": "code",
   "execution_count": 26,
   "metadata": {},
   "outputs": [],
   "source": [
    "encoder = LabelEncoder()"
   ]
  },
  {
   "cell_type": "code",
   "execution_count": 27,
   "metadata": {},
   "outputs": [],
   "source": [
    "y = crime['fatalites-binned']"
   ]
  },
  {
   "cell_type": "code",
   "execution_count": 28,
   "metadata": {},
   "outputs": [],
   "source": [
    "y = LabelEncoder().fit_transform(y)"
   ]
  },
  {
   "cell_type": "code",
   "execution_count": 29,
   "metadata": {},
   "outputs": [],
   "source": [
    "crime['fatalities-binned-encoded'] = y"
   ]
  },
  {
   "cell_type": "code",
   "execution_count": 30,
   "metadata": {},
   "outputs": [
    {
     "name": "stderr",
     "output_type": "stream",
     "text": [
      "/tmp/ipykernel_5301/471230601.py:1: SettingWithCopyWarning: \n",
      "A value is trying to be set on a copy of a slice from a DataFrame.\n",
      "Try using .loc[row_indexer,col_indexer] = value instead\n",
      "\n",
      "See the caveats in the documentation: https://pandas.pydata.org/pandas-docs/stable/user_guide/indexing.html#returning-a-view-versus-a-copy\n",
      "  X['ADMIN1_encode'] = encoder.fit_transform(X['ADMIN1'])\n",
      "/tmp/ipykernel_5301/471230601.py:2: SettingWithCopyWarning: \n",
      "A value is trying to be set on a copy of a slice from a DataFrame.\n",
      "Try using .loc[row_indexer,col_indexer] = value instead\n",
      "\n",
      "See the caveats in the documentation: https://pandas.pydata.org/pandas-docs/stable/user_guide/indexing.html#returning-a-view-versus-a-copy\n",
      "  X['LOCATION_encode'] = encoder.fit_transform(X['LOCATION'])\n",
      "/tmp/ipykernel_5301/471230601.py:3: SettingWithCopyWarning: \n",
      "A value is trying to be set on a copy of a slice from a DataFrame.\n",
      "Try using .loc[row_indexer,col_indexer] = value instead\n",
      "\n",
      "See the caveats in the documentation: https://pandas.pydata.org/pandas-docs/stable/user_guide/indexing.html#returning-a-view-versus-a-copy\n",
      "  X['ACTOR1_encode'] = encoder.fit_transform(X['ACTOR1'])\n"
     ]
    }
   ],
   "source": [
    "X['ADMIN1_encode'] = encoder.fit_transform(X['ADMIN1'])\n",
    "X['LOCATION_encode'] = encoder.fit_transform(X['LOCATION'])\n",
    "X['ACTOR1_encode'] = encoder.fit_transform(X['ACTOR1'])"
   ]
  },
  {
   "cell_type": "markdown",
   "metadata": {},
   "source": [
    "## Performing One Hot Encoding on some categorical features"
   ]
  },
  {
   "cell_type": "code",
   "execution_count": 31,
   "metadata": {},
   "outputs": [
    {
     "data": {
      "text/html": [
       "<div>\n",
       "<style scoped>\n",
       "    .dataframe tbody tr th:only-of-type {\n",
       "        vertical-align: middle;\n",
       "    }\n",
       "\n",
       "    .dataframe tbody tr th {\n",
       "        vertical-align: top;\n",
       "    }\n",
       "\n",
       "    .dataframe thead th {\n",
       "        text-align: right;\n",
       "    }\n",
       "</style>\n",
       "<table border=\"1\" class=\"dataframe\">\n",
       "  <thead>\n",
       "    <tr style=\"text-align: right;\">\n",
       "      <th></th>\n",
       "      <th>ADMIN1</th>\n",
       "      <th>LOCATION</th>\n",
       "      <th>ACTOR1</th>\n",
       "      <th>INTERACTION</th>\n",
       "      <th>ADMIN1_encode</th>\n",
       "      <th>LOCATION_encode</th>\n",
       "      <th>ACTOR1_encode</th>\n",
       "      <th>DISORDER_TYPE_Demonstrations</th>\n",
       "      <th>DISORDER_TYPE_Political violence</th>\n",
       "      <th>DISORDER_TYPE_Political violence; Demonstrations</th>\n",
       "      <th>...</th>\n",
       "      <th>INTER1_8</th>\n",
       "      <th>INTER2_0</th>\n",
       "      <th>INTER2_1</th>\n",
       "      <th>INTER2_2</th>\n",
       "      <th>INTER2_3</th>\n",
       "      <th>INTER2_4</th>\n",
       "      <th>INTER2_5</th>\n",
       "      <th>INTER2_6</th>\n",
       "      <th>INTER2_7</th>\n",
       "      <th>INTER2_8</th>\n",
       "    </tr>\n",
       "  </thead>\n",
       "  <tbody>\n",
       "    <tr>\n",
       "      <th>0</th>\n",
       "      <td>Tipaza</td>\n",
       "      <td>Douaouda</td>\n",
       "      <td>GIA: Armed Islamic Group</td>\n",
       "      <td>27</td>\n",
       "      <td>807</td>\n",
       "      <td>8778</td>\n",
       "      <td>1367</td>\n",
       "      <td>0</td>\n",
       "      <td>1</td>\n",
       "      <td>0</td>\n",
       "      <td>...</td>\n",
       "      <td>0</td>\n",
       "      <td>0</td>\n",
       "      <td>0</td>\n",
       "      <td>0</td>\n",
       "      <td>0</td>\n",
       "      <td>0</td>\n",
       "      <td>0</td>\n",
       "      <td>0</td>\n",
       "      <td>1</td>\n",
       "      <td>0</td>\n",
       "    </tr>\n",
       "    <tr>\n",
       "      <th>1</th>\n",
       "      <td>Relizane</td>\n",
       "      <td>Hassasna</td>\n",
       "      <td>GIA: Armed Islamic Group</td>\n",
       "      <td>27</td>\n",
       "      <td>684</td>\n",
       "      <td>12445</td>\n",
       "      <td>1367</td>\n",
       "      <td>0</td>\n",
       "      <td>1</td>\n",
       "      <td>0</td>\n",
       "      <td>...</td>\n",
       "      <td>0</td>\n",
       "      <td>0</td>\n",
       "      <td>0</td>\n",
       "      <td>0</td>\n",
       "      <td>0</td>\n",
       "      <td>0</td>\n",
       "      <td>0</td>\n",
       "      <td>0</td>\n",
       "      <td>1</td>\n",
       "      <td>0</td>\n",
       "    </tr>\n",
       "    <tr>\n",
       "      <th>2</th>\n",
       "      <td>Saida</td>\n",
       "      <td>Hassi El Abed</td>\n",
       "      <td>GIA: Armed Islamic Group</td>\n",
       "      <td>27</td>\n",
       "      <td>706</td>\n",
       "      <td>12451</td>\n",
       "      <td>1367</td>\n",
       "      <td>0</td>\n",
       "      <td>1</td>\n",
       "      <td>0</td>\n",
       "      <td>...</td>\n",
       "      <td>0</td>\n",
       "      <td>0</td>\n",
       "      <td>0</td>\n",
       "      <td>0</td>\n",
       "      <td>0</td>\n",
       "      <td>0</td>\n",
       "      <td>0</td>\n",
       "      <td>0</td>\n",
       "      <td>1</td>\n",
       "      <td>0</td>\n",
       "    </tr>\n",
       "    <tr>\n",
       "      <th>3</th>\n",
       "      <td>Blida</td>\n",
       "      <td>Blida</td>\n",
       "      <td>GIA: Armed Islamic Group</td>\n",
       "      <td>27</td>\n",
       "      <td>99</td>\n",
       "      <td>4705</td>\n",
       "      <td>1367</td>\n",
       "      <td>0</td>\n",
       "      <td>1</td>\n",
       "      <td>0</td>\n",
       "      <td>...</td>\n",
       "      <td>0</td>\n",
       "      <td>0</td>\n",
       "      <td>0</td>\n",
       "      <td>0</td>\n",
       "      <td>0</td>\n",
       "      <td>0</td>\n",
       "      <td>0</td>\n",
       "      <td>0</td>\n",
       "      <td>1</td>\n",
       "      <td>0</td>\n",
       "    </tr>\n",
       "    <tr>\n",
       "      <th>4</th>\n",
       "      <td>Tipaza</td>\n",
       "      <td>Douaouda</td>\n",
       "      <td>GIA: Armed Islamic Group</td>\n",
       "      <td>27</td>\n",
       "      <td>807</td>\n",
       "      <td>8778</td>\n",
       "      <td>1367</td>\n",
       "      <td>0</td>\n",
       "      <td>1</td>\n",
       "      <td>0</td>\n",
       "      <td>...</td>\n",
       "      <td>0</td>\n",
       "      <td>0</td>\n",
       "      <td>0</td>\n",
       "      <td>0</td>\n",
       "      <td>0</td>\n",
       "      <td>0</td>\n",
       "      <td>0</td>\n",
       "      <td>0</td>\n",
       "      <td>1</td>\n",
       "      <td>0</td>\n",
       "    </tr>\n",
       "  </tbody>\n",
       "</table>\n",
       "<p>5 rows × 121 columns</p>\n",
       "</div>"
      ],
      "text/plain": [
       "     ADMIN1       LOCATION                    ACTOR1  INTERACTION  \\\n",
       "0    Tipaza       Douaouda  GIA: Armed Islamic Group           27   \n",
       "1  Relizane       Hassasna  GIA: Armed Islamic Group           27   \n",
       "2     Saida  Hassi El Abed  GIA: Armed Islamic Group           27   \n",
       "3     Blida          Blida  GIA: Armed Islamic Group           27   \n",
       "4    Tipaza       Douaouda  GIA: Armed Islamic Group           27   \n",
       "\n",
       "   ADMIN1_encode  LOCATION_encode  ACTOR1_encode  \\\n",
       "0            807             8778           1367   \n",
       "1            684            12445           1367   \n",
       "2            706            12451           1367   \n",
       "3             99             4705           1367   \n",
       "4            807             8778           1367   \n",
       "\n",
       "   DISORDER_TYPE_Demonstrations  DISORDER_TYPE_Political violence  \\\n",
       "0                             0                                 1   \n",
       "1                             0                                 1   \n",
       "2                             0                                 1   \n",
       "3                             0                                 1   \n",
       "4                             0                                 1   \n",
       "\n",
       "   DISORDER_TYPE_Political violence; Demonstrations  ...  INTER1_8  INTER2_0  \\\n",
       "0                                                 0  ...         0         0   \n",
       "1                                                 0  ...         0         0   \n",
       "2                                                 0  ...         0         0   \n",
       "3                                                 0  ...         0         0   \n",
       "4                                                 0  ...         0         0   \n",
       "\n",
       "   INTER2_1  INTER2_2  INTER2_3  INTER2_4  INTER2_5  INTER2_6  INTER2_7  \\\n",
       "0         0         0         0         0         0         0         1   \n",
       "1         0         0         0         0         0         0         1   \n",
       "2         0         0         0         0         0         0         1   \n",
       "3         0         0         0         0         0         0         1   \n",
       "4         0         0         0         0         0         0         1   \n",
       "\n",
       "   INTER2_8  \n",
       "0         0  \n",
       "1         0  \n",
       "2         0  \n",
       "3         0  \n",
       "4         0  \n",
       "\n",
       "[5 rows x 121 columns]"
      ]
     },
     "execution_count": 31,
     "metadata": {},
     "output_type": "execute_result"
    }
   ],
   "source": [
    "X = pd.get_dummies(X, columns = ['DISORDER_TYPE', 'REGION', 'COUNTRY', 'EVENT_TYPE', 'SUB_EVENT_TYPE', 'INTER1', 'INTER2'])\n",
    "X.head()"
   ]
  },
  {
   "cell_type": "code",
   "execution_count": 32,
   "metadata": {},
   "outputs": [],
   "source": [
    "X['fatalites-binned'] = crime['fatalites-binned']"
   ]
  },
  {
   "cell_type": "code",
   "execution_count": 33,
   "metadata": {},
   "outputs": [
    {
     "data": {
      "text/html": [
       "<div>\n",
       "<style scoped>\n",
       "    .dataframe tbody tr th:only-of-type {\n",
       "        vertical-align: middle;\n",
       "    }\n",
       "\n",
       "    .dataframe tbody tr th {\n",
       "        vertical-align: top;\n",
       "    }\n",
       "\n",
       "    .dataframe thead th {\n",
       "        text-align: right;\n",
       "    }\n",
       "</style>\n",
       "<table border=\"1\" class=\"dataframe\">\n",
       "  <thead>\n",
       "    <tr style=\"text-align: right;\">\n",
       "      <th></th>\n",
       "      <th>ADMIN1</th>\n",
       "      <th>LOCATION</th>\n",
       "      <th>ACTOR1</th>\n",
       "      <th>INTERACTION</th>\n",
       "      <th>ADMIN1_encode</th>\n",
       "      <th>LOCATION_encode</th>\n",
       "      <th>ACTOR1_encode</th>\n",
       "      <th>DISORDER_TYPE_Demonstrations</th>\n",
       "      <th>DISORDER_TYPE_Political violence</th>\n",
       "      <th>DISORDER_TYPE_Political violence; Demonstrations</th>\n",
       "      <th>...</th>\n",
       "      <th>INTER2_0</th>\n",
       "      <th>INTER2_1</th>\n",
       "      <th>INTER2_2</th>\n",
       "      <th>INTER2_3</th>\n",
       "      <th>INTER2_4</th>\n",
       "      <th>INTER2_5</th>\n",
       "      <th>INTER2_6</th>\n",
       "      <th>INTER2_7</th>\n",
       "      <th>INTER2_8</th>\n",
       "      <th>fatalites-binned</th>\n",
       "    </tr>\n",
       "  </thead>\n",
       "  <tbody>\n",
       "    <tr>\n",
       "      <th>0</th>\n",
       "      <td>Tipaza</td>\n",
       "      <td>Douaouda</td>\n",
       "      <td>GIA: Armed Islamic Group</td>\n",
       "      <td>27</td>\n",
       "      <td>807</td>\n",
       "      <td>8778</td>\n",
       "      <td>1367</td>\n",
       "      <td>0</td>\n",
       "      <td>1</td>\n",
       "      <td>0</td>\n",
       "      <td>...</td>\n",
       "      <td>0</td>\n",
       "      <td>0</td>\n",
       "      <td>0</td>\n",
       "      <td>0</td>\n",
       "      <td>0</td>\n",
       "      <td>0</td>\n",
       "      <td>0</td>\n",
       "      <td>1</td>\n",
       "      <td>0</td>\n",
       "      <td>2_TO_10</td>\n",
       "    </tr>\n",
       "    <tr>\n",
       "      <th>1</th>\n",
       "      <td>Relizane</td>\n",
       "      <td>Hassasna</td>\n",
       "      <td>GIA: Armed Islamic Group</td>\n",
       "      <td>27</td>\n",
       "      <td>684</td>\n",
       "      <td>12445</td>\n",
       "      <td>1367</td>\n",
       "      <td>0</td>\n",
       "      <td>1</td>\n",
       "      <td>0</td>\n",
       "      <td>...</td>\n",
       "      <td>0</td>\n",
       "      <td>0</td>\n",
       "      <td>0</td>\n",
       "      <td>0</td>\n",
       "      <td>0</td>\n",
       "      <td>0</td>\n",
       "      <td>0</td>\n",
       "      <td>1</td>\n",
       "      <td>0</td>\n",
       "      <td>2_TO_10</td>\n",
       "    </tr>\n",
       "    <tr>\n",
       "      <th>2</th>\n",
       "      <td>Saida</td>\n",
       "      <td>Hassi El Abed</td>\n",
       "      <td>GIA: Armed Islamic Group</td>\n",
       "      <td>27</td>\n",
       "      <td>706</td>\n",
       "      <td>12451</td>\n",
       "      <td>1367</td>\n",
       "      <td>0</td>\n",
       "      <td>1</td>\n",
       "      <td>0</td>\n",
       "      <td>...</td>\n",
       "      <td>0</td>\n",
       "      <td>0</td>\n",
       "      <td>0</td>\n",
       "      <td>0</td>\n",
       "      <td>0</td>\n",
       "      <td>0</td>\n",
       "      <td>0</td>\n",
       "      <td>1</td>\n",
       "      <td>0</td>\n",
       "      <td>2_TO_10</td>\n",
       "    </tr>\n",
       "    <tr>\n",
       "      <th>3</th>\n",
       "      <td>Blida</td>\n",
       "      <td>Blida</td>\n",
       "      <td>GIA: Armed Islamic Group</td>\n",
       "      <td>27</td>\n",
       "      <td>99</td>\n",
       "      <td>4705</td>\n",
       "      <td>1367</td>\n",
       "      <td>0</td>\n",
       "      <td>1</td>\n",
       "      <td>0</td>\n",
       "      <td>...</td>\n",
       "      <td>0</td>\n",
       "      <td>0</td>\n",
       "      <td>0</td>\n",
       "      <td>0</td>\n",
       "      <td>0</td>\n",
       "      <td>0</td>\n",
       "      <td>0</td>\n",
       "      <td>1</td>\n",
       "      <td>0</td>\n",
       "      <td>11_TO_50</td>\n",
       "    </tr>\n",
       "    <tr>\n",
       "      <th>4</th>\n",
       "      <td>Tipaza</td>\n",
       "      <td>Douaouda</td>\n",
       "      <td>GIA: Armed Islamic Group</td>\n",
       "      <td>27</td>\n",
       "      <td>807</td>\n",
       "      <td>8778</td>\n",
       "      <td>1367</td>\n",
       "      <td>0</td>\n",
       "      <td>1</td>\n",
       "      <td>0</td>\n",
       "      <td>...</td>\n",
       "      <td>0</td>\n",
       "      <td>0</td>\n",
       "      <td>0</td>\n",
       "      <td>0</td>\n",
       "      <td>0</td>\n",
       "      <td>0</td>\n",
       "      <td>0</td>\n",
       "      <td>1</td>\n",
       "      <td>0</td>\n",
       "      <td>11_TO_50</td>\n",
       "    </tr>\n",
       "  </tbody>\n",
       "</table>\n",
       "<p>5 rows × 122 columns</p>\n",
       "</div>"
      ],
      "text/plain": [
       "     ADMIN1       LOCATION                    ACTOR1  INTERACTION  \\\n",
       "0    Tipaza       Douaouda  GIA: Armed Islamic Group           27   \n",
       "1  Relizane       Hassasna  GIA: Armed Islamic Group           27   \n",
       "2     Saida  Hassi El Abed  GIA: Armed Islamic Group           27   \n",
       "3     Blida          Blida  GIA: Armed Islamic Group           27   \n",
       "4    Tipaza       Douaouda  GIA: Armed Islamic Group           27   \n",
       "\n",
       "   ADMIN1_encode  LOCATION_encode  ACTOR1_encode  \\\n",
       "0            807             8778           1367   \n",
       "1            684            12445           1367   \n",
       "2            706            12451           1367   \n",
       "3             99             4705           1367   \n",
       "4            807             8778           1367   \n",
       "\n",
       "   DISORDER_TYPE_Demonstrations  DISORDER_TYPE_Political violence  \\\n",
       "0                             0                                 1   \n",
       "1                             0                                 1   \n",
       "2                             0                                 1   \n",
       "3                             0                                 1   \n",
       "4                             0                                 1   \n",
       "\n",
       "   DISORDER_TYPE_Political violence; Demonstrations  ...  INTER2_0  INTER2_1  \\\n",
       "0                                                 0  ...         0         0   \n",
       "1                                                 0  ...         0         0   \n",
       "2                                                 0  ...         0         0   \n",
       "3                                                 0  ...         0         0   \n",
       "4                                                 0  ...         0         0   \n",
       "\n",
       "   INTER2_2  INTER2_3  INTER2_4  INTER2_5  INTER2_6  INTER2_7  INTER2_8  \\\n",
       "0         0         0         0         0         0         1         0   \n",
       "1         0         0         0         0         0         1         0   \n",
       "2         0         0         0         0         0         1         0   \n",
       "3         0         0         0         0         0         1         0   \n",
       "4         0         0         0         0         0         1         0   \n",
       "\n",
       "   fatalites-binned  \n",
       "0           2_TO_10  \n",
       "1           2_TO_10  \n",
       "2           2_TO_10  \n",
       "3          11_TO_50  \n",
       "4          11_TO_50  \n",
       "\n",
       "[5 rows x 122 columns]"
      ]
     },
     "execution_count": 33,
     "metadata": {},
     "output_type": "execute_result"
    }
   ],
   "source": [
    "X.head()"
   ]
  },
  {
   "cell_type": "code",
   "execution_count": 34,
   "metadata": {},
   "outputs": [],
   "source": [
    "X.drop(['ADMIN1', 'LOCATION', 'ACTOR1'], axis=1, inplace=True)"
   ]
  },
  {
   "cell_type": "code",
   "execution_count": 39,
   "metadata": {},
   "outputs": [],
   "source": [
    "crime['EVENT_DATE']= pd.to_datetime(crime['EVENT_DATE'])"
   ]
  },
  {
   "cell_type": "code",
   "execution_count": 46,
   "metadata": {},
   "outputs": [],
   "source": [
    "X['day_of_year'] = crime.EVENT_DATE.dt.day_of_year\n",
    "X['month'] = crime.EVENT_DATE.dt.month\n",
    "X['year'] = crime.EVENT_DATE.dt.year"
   ]
  },
  {
   "cell_type": "code",
   "execution_count": 47,
   "metadata": {},
   "outputs": [
    {
     "data": {
      "text/html": [
       "<div>\n",
       "<style scoped>\n",
       "    .dataframe tbody tr th:only-of-type {\n",
       "        vertical-align: middle;\n",
       "    }\n",
       "\n",
       "    .dataframe tbody tr th {\n",
       "        vertical-align: top;\n",
       "    }\n",
       "\n",
       "    .dataframe thead th {\n",
       "        text-align: right;\n",
       "    }\n",
       "</style>\n",
       "<table border=\"1\" class=\"dataframe\">\n",
       "  <thead>\n",
       "    <tr style=\"text-align: right;\">\n",
       "      <th></th>\n",
       "      <th>INTERACTION</th>\n",
       "      <th>ADMIN1_encode</th>\n",
       "      <th>LOCATION_encode</th>\n",
       "      <th>ACTOR1_encode</th>\n",
       "      <th>DISORDER_TYPE_Demonstrations</th>\n",
       "      <th>DISORDER_TYPE_Political violence</th>\n",
       "      <th>DISORDER_TYPE_Political violence; Demonstrations</th>\n",
       "      <th>DISORDER_TYPE_Strategic developments</th>\n",
       "      <th>REGION_Eastern Africa</th>\n",
       "      <th>REGION_Middle Africa</th>\n",
       "      <th>...</th>\n",
       "      <th>INTER2_3</th>\n",
       "      <th>INTER2_4</th>\n",
       "      <th>INTER2_5</th>\n",
       "      <th>INTER2_6</th>\n",
       "      <th>INTER2_7</th>\n",
       "      <th>INTER2_8</th>\n",
       "      <th>fatalites-binned</th>\n",
       "      <th>day_of_year</th>\n",
       "      <th>month</th>\n",
       "      <th>year</th>\n",
       "    </tr>\n",
       "  </thead>\n",
       "  <tbody>\n",
       "    <tr>\n",
       "      <th>0</th>\n",
       "      <td>27</td>\n",
       "      <td>807</td>\n",
       "      <td>8778</td>\n",
       "      <td>1367</td>\n",
       "      <td>0</td>\n",
       "      <td>1</td>\n",
       "      <td>0</td>\n",
       "      <td>0</td>\n",
       "      <td>0</td>\n",
       "      <td>0</td>\n",
       "      <td>...</td>\n",
       "      <td>0</td>\n",
       "      <td>0</td>\n",
       "      <td>0</td>\n",
       "      <td>0</td>\n",
       "      <td>1</td>\n",
       "      <td>0</td>\n",
       "      <td>2_TO_10</td>\n",
       "      <td>1</td>\n",
       "      <td>1</td>\n",
       "      <td>1997</td>\n",
       "    </tr>\n",
       "    <tr>\n",
       "      <th>1</th>\n",
       "      <td>27</td>\n",
       "      <td>684</td>\n",
       "      <td>12445</td>\n",
       "      <td>1367</td>\n",
       "      <td>0</td>\n",
       "      <td>1</td>\n",
       "      <td>0</td>\n",
       "      <td>0</td>\n",
       "      <td>0</td>\n",
       "      <td>0</td>\n",
       "      <td>...</td>\n",
       "      <td>0</td>\n",
       "      <td>0</td>\n",
       "      <td>0</td>\n",
       "      <td>0</td>\n",
       "      <td>1</td>\n",
       "      <td>0</td>\n",
       "      <td>2_TO_10</td>\n",
       "      <td>2</td>\n",
       "      <td>1</td>\n",
       "      <td>1997</td>\n",
       "    </tr>\n",
       "    <tr>\n",
       "      <th>2</th>\n",
       "      <td>27</td>\n",
       "      <td>706</td>\n",
       "      <td>12451</td>\n",
       "      <td>1367</td>\n",
       "      <td>0</td>\n",
       "      <td>1</td>\n",
       "      <td>0</td>\n",
       "      <td>0</td>\n",
       "      <td>0</td>\n",
       "      <td>0</td>\n",
       "      <td>...</td>\n",
       "      <td>0</td>\n",
       "      <td>0</td>\n",
       "      <td>0</td>\n",
       "      <td>0</td>\n",
       "      <td>1</td>\n",
       "      <td>0</td>\n",
       "      <td>2_TO_10</td>\n",
       "      <td>3</td>\n",
       "      <td>1</td>\n",
       "      <td>1997</td>\n",
       "    </tr>\n",
       "    <tr>\n",
       "      <th>3</th>\n",
       "      <td>27</td>\n",
       "      <td>99</td>\n",
       "      <td>4705</td>\n",
       "      <td>1367</td>\n",
       "      <td>0</td>\n",
       "      <td>1</td>\n",
       "      <td>0</td>\n",
       "      <td>0</td>\n",
       "      <td>0</td>\n",
       "      <td>0</td>\n",
       "      <td>...</td>\n",
       "      <td>0</td>\n",
       "      <td>0</td>\n",
       "      <td>0</td>\n",
       "      <td>0</td>\n",
       "      <td>1</td>\n",
       "      <td>0</td>\n",
       "      <td>11_TO_50</td>\n",
       "      <td>4</td>\n",
       "      <td>1</td>\n",
       "      <td>1997</td>\n",
       "    </tr>\n",
       "    <tr>\n",
       "      <th>4</th>\n",
       "      <td>27</td>\n",
       "      <td>807</td>\n",
       "      <td>8778</td>\n",
       "      <td>1367</td>\n",
       "      <td>0</td>\n",
       "      <td>1</td>\n",
       "      <td>0</td>\n",
       "      <td>0</td>\n",
       "      <td>0</td>\n",
       "      <td>0</td>\n",
       "      <td>...</td>\n",
       "      <td>0</td>\n",
       "      <td>0</td>\n",
       "      <td>0</td>\n",
       "      <td>0</td>\n",
       "      <td>1</td>\n",
       "      <td>0</td>\n",
       "      <td>11_TO_50</td>\n",
       "      <td>5</td>\n",
       "      <td>1</td>\n",
       "      <td>1997</td>\n",
       "    </tr>\n",
       "  </tbody>\n",
       "</table>\n",
       "<p>5 rows × 122 columns</p>\n",
       "</div>"
      ],
      "text/plain": [
       "   INTERACTION  ADMIN1_encode  LOCATION_encode  ACTOR1_encode  \\\n",
       "0           27            807             8778           1367   \n",
       "1           27            684            12445           1367   \n",
       "2           27            706            12451           1367   \n",
       "3           27             99             4705           1367   \n",
       "4           27            807             8778           1367   \n",
       "\n",
       "   DISORDER_TYPE_Demonstrations  DISORDER_TYPE_Political violence  \\\n",
       "0                             0                                 1   \n",
       "1                             0                                 1   \n",
       "2                             0                                 1   \n",
       "3                             0                                 1   \n",
       "4                             0                                 1   \n",
       "\n",
       "   DISORDER_TYPE_Political violence; Demonstrations  \\\n",
       "0                                                 0   \n",
       "1                                                 0   \n",
       "2                                                 0   \n",
       "3                                                 0   \n",
       "4                                                 0   \n",
       "\n",
       "   DISORDER_TYPE_Strategic developments  REGION_Eastern Africa  \\\n",
       "0                                     0                      0   \n",
       "1                                     0                      0   \n",
       "2                                     0                      0   \n",
       "3                                     0                      0   \n",
       "4                                     0                      0   \n",
       "\n",
       "   REGION_Middle Africa  ...  INTER2_3  INTER2_4  INTER2_5  INTER2_6  \\\n",
       "0                     0  ...         0         0         0         0   \n",
       "1                     0  ...         0         0         0         0   \n",
       "2                     0  ...         0         0         0         0   \n",
       "3                     0  ...         0         0         0         0   \n",
       "4                     0  ...         0         0         0         0   \n",
       "\n",
       "   INTER2_7  INTER2_8  fatalites-binned  day_of_year  month  year  \n",
       "0         1         0           2_TO_10            1      1  1997  \n",
       "1         1         0           2_TO_10            2      1  1997  \n",
       "2         1         0           2_TO_10            3      1  1997  \n",
       "3         1         0          11_TO_50            4      1  1997  \n",
       "4         1         0          11_TO_50            5      1  1997  \n",
       "\n",
       "[5 rows x 122 columns]"
      ]
     },
     "execution_count": 47,
     "metadata": {},
     "output_type": "execute_result"
    }
   ],
   "source": [
    "X.head()"
   ]
  },
  {
   "cell_type": "markdown",
   "metadata": {},
   "source": [
    "### Preparing for Modelling"
   ]
  },
  {
   "cell_type": "code",
   "execution_count": 48,
   "metadata": {},
   "outputs": [],
   "source": [
    "X_copy = X.iloc[:, 0:-4]"
   ]
  },
  {
   "cell_type": "code",
   "execution_count": 49,
   "metadata": {},
   "outputs": [],
   "source": [
    "X_copy['day_of_year'] = X.day_of_year\n",
    "X_copy['month'] = X.month\n",
    "X_copy['year'] = X.year"
   ]
  },
  {
   "cell_type": "code",
   "execution_count": 50,
   "metadata": {},
   "outputs": [
    {
     "data": {
      "text/html": [
       "<div>\n",
       "<style scoped>\n",
       "    .dataframe tbody tr th:only-of-type {\n",
       "        vertical-align: middle;\n",
       "    }\n",
       "\n",
       "    .dataframe tbody tr th {\n",
       "        vertical-align: top;\n",
       "    }\n",
       "\n",
       "    .dataframe thead th {\n",
       "        text-align: right;\n",
       "    }\n",
       "</style>\n",
       "<table border=\"1\" class=\"dataframe\">\n",
       "  <thead>\n",
       "    <tr style=\"text-align: right;\">\n",
       "      <th></th>\n",
       "      <th>INTERACTION</th>\n",
       "      <th>ADMIN1_encode</th>\n",
       "      <th>LOCATION_encode</th>\n",
       "      <th>ACTOR1_encode</th>\n",
       "      <th>DISORDER_TYPE_Demonstrations</th>\n",
       "      <th>DISORDER_TYPE_Political violence</th>\n",
       "      <th>DISORDER_TYPE_Political violence; Demonstrations</th>\n",
       "      <th>DISORDER_TYPE_Strategic developments</th>\n",
       "      <th>REGION_Eastern Africa</th>\n",
       "      <th>REGION_Middle Africa</th>\n",
       "      <th>...</th>\n",
       "      <th>INTER2_2</th>\n",
       "      <th>INTER2_3</th>\n",
       "      <th>INTER2_4</th>\n",
       "      <th>INTER2_5</th>\n",
       "      <th>INTER2_6</th>\n",
       "      <th>INTER2_7</th>\n",
       "      <th>INTER2_8</th>\n",
       "      <th>day_of_year</th>\n",
       "      <th>month</th>\n",
       "      <th>year</th>\n",
       "    </tr>\n",
       "  </thead>\n",
       "  <tbody>\n",
       "    <tr>\n",
       "      <th>0</th>\n",
       "      <td>27</td>\n",
       "      <td>807</td>\n",
       "      <td>8778</td>\n",
       "      <td>1367</td>\n",
       "      <td>0</td>\n",
       "      <td>1</td>\n",
       "      <td>0</td>\n",
       "      <td>0</td>\n",
       "      <td>0</td>\n",
       "      <td>0</td>\n",
       "      <td>...</td>\n",
       "      <td>0</td>\n",
       "      <td>0</td>\n",
       "      <td>0</td>\n",
       "      <td>0</td>\n",
       "      <td>0</td>\n",
       "      <td>1</td>\n",
       "      <td>0</td>\n",
       "      <td>1</td>\n",
       "      <td>1</td>\n",
       "      <td>1997</td>\n",
       "    </tr>\n",
       "    <tr>\n",
       "      <th>1</th>\n",
       "      <td>27</td>\n",
       "      <td>684</td>\n",
       "      <td>12445</td>\n",
       "      <td>1367</td>\n",
       "      <td>0</td>\n",
       "      <td>1</td>\n",
       "      <td>0</td>\n",
       "      <td>0</td>\n",
       "      <td>0</td>\n",
       "      <td>0</td>\n",
       "      <td>...</td>\n",
       "      <td>0</td>\n",
       "      <td>0</td>\n",
       "      <td>0</td>\n",
       "      <td>0</td>\n",
       "      <td>0</td>\n",
       "      <td>1</td>\n",
       "      <td>0</td>\n",
       "      <td>2</td>\n",
       "      <td>1</td>\n",
       "      <td>1997</td>\n",
       "    </tr>\n",
       "    <tr>\n",
       "      <th>2</th>\n",
       "      <td>27</td>\n",
       "      <td>706</td>\n",
       "      <td>12451</td>\n",
       "      <td>1367</td>\n",
       "      <td>0</td>\n",
       "      <td>1</td>\n",
       "      <td>0</td>\n",
       "      <td>0</td>\n",
       "      <td>0</td>\n",
       "      <td>0</td>\n",
       "      <td>...</td>\n",
       "      <td>0</td>\n",
       "      <td>0</td>\n",
       "      <td>0</td>\n",
       "      <td>0</td>\n",
       "      <td>0</td>\n",
       "      <td>1</td>\n",
       "      <td>0</td>\n",
       "      <td>3</td>\n",
       "      <td>1</td>\n",
       "      <td>1997</td>\n",
       "    </tr>\n",
       "    <tr>\n",
       "      <th>3</th>\n",
       "      <td>27</td>\n",
       "      <td>99</td>\n",
       "      <td>4705</td>\n",
       "      <td>1367</td>\n",
       "      <td>0</td>\n",
       "      <td>1</td>\n",
       "      <td>0</td>\n",
       "      <td>0</td>\n",
       "      <td>0</td>\n",
       "      <td>0</td>\n",
       "      <td>...</td>\n",
       "      <td>0</td>\n",
       "      <td>0</td>\n",
       "      <td>0</td>\n",
       "      <td>0</td>\n",
       "      <td>0</td>\n",
       "      <td>1</td>\n",
       "      <td>0</td>\n",
       "      <td>4</td>\n",
       "      <td>1</td>\n",
       "      <td>1997</td>\n",
       "    </tr>\n",
       "    <tr>\n",
       "      <th>4</th>\n",
       "      <td>27</td>\n",
       "      <td>807</td>\n",
       "      <td>8778</td>\n",
       "      <td>1367</td>\n",
       "      <td>0</td>\n",
       "      <td>1</td>\n",
       "      <td>0</td>\n",
       "      <td>0</td>\n",
       "      <td>0</td>\n",
       "      <td>0</td>\n",
       "      <td>...</td>\n",
       "      <td>0</td>\n",
       "      <td>0</td>\n",
       "      <td>0</td>\n",
       "      <td>0</td>\n",
       "      <td>0</td>\n",
       "      <td>1</td>\n",
       "      <td>0</td>\n",
       "      <td>5</td>\n",
       "      <td>1</td>\n",
       "      <td>1997</td>\n",
       "    </tr>\n",
       "  </tbody>\n",
       "</table>\n",
       "<p>5 rows × 121 columns</p>\n",
       "</div>"
      ],
      "text/plain": [
       "   INTERACTION  ADMIN1_encode  LOCATION_encode  ACTOR1_encode  \\\n",
       "0           27            807             8778           1367   \n",
       "1           27            684            12445           1367   \n",
       "2           27            706            12451           1367   \n",
       "3           27             99             4705           1367   \n",
       "4           27            807             8778           1367   \n",
       "\n",
       "   DISORDER_TYPE_Demonstrations  DISORDER_TYPE_Political violence  \\\n",
       "0                             0                                 1   \n",
       "1                             0                                 1   \n",
       "2                             0                                 1   \n",
       "3                             0                                 1   \n",
       "4                             0                                 1   \n",
       "\n",
       "   DISORDER_TYPE_Political violence; Demonstrations  \\\n",
       "0                                                 0   \n",
       "1                                                 0   \n",
       "2                                                 0   \n",
       "3                                                 0   \n",
       "4                                                 0   \n",
       "\n",
       "   DISORDER_TYPE_Strategic developments  REGION_Eastern Africa  \\\n",
       "0                                     0                      0   \n",
       "1                                     0                      0   \n",
       "2                                     0                      0   \n",
       "3                                     0                      0   \n",
       "4                                     0                      0   \n",
       "\n",
       "   REGION_Middle Africa  ...  INTER2_2  INTER2_3  INTER2_4  INTER2_5  \\\n",
       "0                     0  ...         0         0         0         0   \n",
       "1                     0  ...         0         0         0         0   \n",
       "2                     0  ...         0         0         0         0   \n",
       "3                     0  ...         0         0         0         0   \n",
       "4                     0  ...         0         0         0         0   \n",
       "\n",
       "   INTER2_6  INTER2_7  INTER2_8  day_of_year  month  year  \n",
       "0         0         1         0            1      1  1997  \n",
       "1         0         1         0            2      1  1997  \n",
       "2         0         1         0            3      1  1997  \n",
       "3         0         1         0            4      1  1997  \n",
       "4         0         1         0            5      1  1997  \n",
       "\n",
       "[5 rows x 121 columns]"
      ]
     },
     "execution_count": 50,
     "metadata": {},
     "output_type": "execute_result"
    }
   ],
   "source": [
    "X_copy.head()"
   ]
  },
  {
   "cell_type": "code",
   "execution_count": null,
   "metadata": {},
   "outputs": [],
   "source": []
  },
  {
   "cell_type": "code",
   "execution_count": 51,
   "metadata": {},
   "outputs": [],
   "source": [
    "## Keeping track of encoded data and order of encoding\n",
    "\n",
    "actor1_dict = dict(zip(crime.ACTOR1.unique(), X_copy.ACTOR1_encode.unique()))\n",
    "actor1_dict_reverse = dict(zip(X_copy.ACTOR1_encode.unique(), crime.ACTOR1.unique()))\n",
    "\n",
    "admin1_dict = dict(zip(crime.ADMIN1.unique(), X_copy.ADMIN1_encode.unique()))\n",
    "admin1_dict_reverse = dict(zip(X_copy.ADMIN1_encode.unique(), crime.ADMIN1.unique()))\n",
    "\n",
    "location_dict = dict(zip(crime.LOCATION.unique(), X_copy.LOCATION_encode.unique()))\n",
    "location_dict_reverse = dict(zip(X_copy.LOCATION_encode.unique(), crime.LOCATION.unique()))\n",
    "\n",
    "fatalities_dict = dict(zip(crime['fatalites-binned'].unique(), crime['fatalities-binned-encoded'].unique()))\n",
    "fatalities_dict_reverse = dict(zip(crime['fatalities-binned-encoded'].unique(), crime['fatalites-binned'].unique()))\n"
   ]
  },
  {
   "cell_type": "code",
   "execution_count": 52,
   "metadata": {},
   "outputs": [
    {
     "data": {
      "text/plain": [
       "{'2_TO_10': 3,\n",
       " '11_TO_50': 1,\n",
       " '1_FATALITY': 2,\n",
       " 'NO_FATALITY': 6,\n",
       " '51_TO_100': 5,\n",
       " '101_TO_500': 0,\n",
       " '501_TO_1350': 4}"
      ]
     },
     "execution_count": 52,
     "metadata": {},
     "output_type": "execute_result"
    }
   ],
   "source": [
    "fatalities_dict"
   ]
  },
  {
   "cell_type": "code",
   "execution_count": 53,
   "metadata": {},
   "outputs": [],
   "source": [
    "record = X.copy()\n",
    "record['fatalities-binned-encoded'] = crime['fatalities-binned-encoded']"
   ]
  },
  {
   "cell_type": "code",
   "execution_count": 54,
   "metadata": {},
   "outputs": [
    {
     "data": {
      "text/html": [
       "<div>\n",
       "<style scoped>\n",
       "    .dataframe tbody tr th:only-of-type {\n",
       "        vertical-align: middle;\n",
       "    }\n",
       "\n",
       "    .dataframe tbody tr th {\n",
       "        vertical-align: top;\n",
       "    }\n",
       "\n",
       "    .dataframe thead th {\n",
       "        text-align: right;\n",
       "    }\n",
       "</style>\n",
       "<table border=\"1\" class=\"dataframe\">\n",
       "  <thead>\n",
       "    <tr style=\"text-align: right;\">\n",
       "      <th></th>\n",
       "      <th>INTERACTION</th>\n",
       "      <th>ADMIN1_encode</th>\n",
       "      <th>LOCATION_encode</th>\n",
       "      <th>ACTOR1_encode</th>\n",
       "      <th>DISORDER_TYPE_Demonstrations</th>\n",
       "      <th>DISORDER_TYPE_Political violence</th>\n",
       "      <th>DISORDER_TYPE_Political violence; Demonstrations</th>\n",
       "      <th>DISORDER_TYPE_Strategic developments</th>\n",
       "      <th>REGION_Eastern Africa</th>\n",
       "      <th>REGION_Middle Africa</th>\n",
       "      <th>...</th>\n",
       "      <th>INTER2_4</th>\n",
       "      <th>INTER2_5</th>\n",
       "      <th>INTER2_6</th>\n",
       "      <th>INTER2_7</th>\n",
       "      <th>INTER2_8</th>\n",
       "      <th>fatalites-binned</th>\n",
       "      <th>day_of_year</th>\n",
       "      <th>month</th>\n",
       "      <th>year</th>\n",
       "      <th>fatalities-binned-encoded</th>\n",
       "    </tr>\n",
       "  </thead>\n",
       "  <tbody>\n",
       "    <tr>\n",
       "      <th>0</th>\n",
       "      <td>27</td>\n",
       "      <td>807</td>\n",
       "      <td>8778</td>\n",
       "      <td>1367</td>\n",
       "      <td>0</td>\n",
       "      <td>1</td>\n",
       "      <td>0</td>\n",
       "      <td>0</td>\n",
       "      <td>0</td>\n",
       "      <td>0</td>\n",
       "      <td>...</td>\n",
       "      <td>0</td>\n",
       "      <td>0</td>\n",
       "      <td>0</td>\n",
       "      <td>1</td>\n",
       "      <td>0</td>\n",
       "      <td>2_TO_10</td>\n",
       "      <td>1</td>\n",
       "      <td>1</td>\n",
       "      <td>1997</td>\n",
       "      <td>3</td>\n",
       "    </tr>\n",
       "    <tr>\n",
       "      <th>1</th>\n",
       "      <td>27</td>\n",
       "      <td>684</td>\n",
       "      <td>12445</td>\n",
       "      <td>1367</td>\n",
       "      <td>0</td>\n",
       "      <td>1</td>\n",
       "      <td>0</td>\n",
       "      <td>0</td>\n",
       "      <td>0</td>\n",
       "      <td>0</td>\n",
       "      <td>...</td>\n",
       "      <td>0</td>\n",
       "      <td>0</td>\n",
       "      <td>0</td>\n",
       "      <td>1</td>\n",
       "      <td>0</td>\n",
       "      <td>2_TO_10</td>\n",
       "      <td>2</td>\n",
       "      <td>1</td>\n",
       "      <td>1997</td>\n",
       "      <td>3</td>\n",
       "    </tr>\n",
       "    <tr>\n",
       "      <th>2</th>\n",
       "      <td>27</td>\n",
       "      <td>706</td>\n",
       "      <td>12451</td>\n",
       "      <td>1367</td>\n",
       "      <td>0</td>\n",
       "      <td>1</td>\n",
       "      <td>0</td>\n",
       "      <td>0</td>\n",
       "      <td>0</td>\n",
       "      <td>0</td>\n",
       "      <td>...</td>\n",
       "      <td>0</td>\n",
       "      <td>0</td>\n",
       "      <td>0</td>\n",
       "      <td>1</td>\n",
       "      <td>0</td>\n",
       "      <td>2_TO_10</td>\n",
       "      <td>3</td>\n",
       "      <td>1</td>\n",
       "      <td>1997</td>\n",
       "      <td>3</td>\n",
       "    </tr>\n",
       "    <tr>\n",
       "      <th>3</th>\n",
       "      <td>27</td>\n",
       "      <td>99</td>\n",
       "      <td>4705</td>\n",
       "      <td>1367</td>\n",
       "      <td>0</td>\n",
       "      <td>1</td>\n",
       "      <td>0</td>\n",
       "      <td>0</td>\n",
       "      <td>0</td>\n",
       "      <td>0</td>\n",
       "      <td>...</td>\n",
       "      <td>0</td>\n",
       "      <td>0</td>\n",
       "      <td>0</td>\n",
       "      <td>1</td>\n",
       "      <td>0</td>\n",
       "      <td>11_TO_50</td>\n",
       "      <td>4</td>\n",
       "      <td>1</td>\n",
       "      <td>1997</td>\n",
       "      <td>1</td>\n",
       "    </tr>\n",
       "    <tr>\n",
       "      <th>4</th>\n",
       "      <td>27</td>\n",
       "      <td>807</td>\n",
       "      <td>8778</td>\n",
       "      <td>1367</td>\n",
       "      <td>0</td>\n",
       "      <td>1</td>\n",
       "      <td>0</td>\n",
       "      <td>0</td>\n",
       "      <td>0</td>\n",
       "      <td>0</td>\n",
       "      <td>...</td>\n",
       "      <td>0</td>\n",
       "      <td>0</td>\n",
       "      <td>0</td>\n",
       "      <td>1</td>\n",
       "      <td>0</td>\n",
       "      <td>11_TO_50</td>\n",
       "      <td>5</td>\n",
       "      <td>1</td>\n",
       "      <td>1997</td>\n",
       "      <td>1</td>\n",
       "    </tr>\n",
       "  </tbody>\n",
       "</table>\n",
       "<p>5 rows × 123 columns</p>\n",
       "</div>"
      ],
      "text/plain": [
       "   INTERACTION  ADMIN1_encode  LOCATION_encode  ACTOR1_encode  \\\n",
       "0           27            807             8778           1367   \n",
       "1           27            684            12445           1367   \n",
       "2           27            706            12451           1367   \n",
       "3           27             99             4705           1367   \n",
       "4           27            807             8778           1367   \n",
       "\n",
       "   DISORDER_TYPE_Demonstrations  DISORDER_TYPE_Political violence  \\\n",
       "0                             0                                 1   \n",
       "1                             0                                 1   \n",
       "2                             0                                 1   \n",
       "3                             0                                 1   \n",
       "4                             0                                 1   \n",
       "\n",
       "   DISORDER_TYPE_Political violence; Demonstrations  \\\n",
       "0                                                 0   \n",
       "1                                                 0   \n",
       "2                                                 0   \n",
       "3                                                 0   \n",
       "4                                                 0   \n",
       "\n",
       "   DISORDER_TYPE_Strategic developments  REGION_Eastern Africa  \\\n",
       "0                                     0                      0   \n",
       "1                                     0                      0   \n",
       "2                                     0                      0   \n",
       "3                                     0                      0   \n",
       "4                                     0                      0   \n",
       "\n",
       "   REGION_Middle Africa  ...  INTER2_4  INTER2_5  INTER2_6  INTER2_7  \\\n",
       "0                     0  ...         0         0         0         1   \n",
       "1                     0  ...         0         0         0         1   \n",
       "2                     0  ...         0         0         0         1   \n",
       "3                     0  ...         0         0         0         1   \n",
       "4                     0  ...         0         0         0         1   \n",
       "\n",
       "   INTER2_8  fatalites-binned  day_of_year  month  year  \\\n",
       "0         0           2_TO_10            1      1  1997   \n",
       "1         0           2_TO_10            2      1  1997   \n",
       "2         0           2_TO_10            3      1  1997   \n",
       "3         0          11_TO_50            4      1  1997   \n",
       "4         0          11_TO_50            5      1  1997   \n",
       "\n",
       "   fatalities-binned-encoded  \n",
       "0                          3  \n",
       "1                          3  \n",
       "2                          3  \n",
       "3                          1  \n",
       "4                          1  \n",
       "\n",
       "[5 rows x 123 columns]"
      ]
     },
     "execution_count": 54,
     "metadata": {},
     "output_type": "execute_result"
    }
   ],
   "source": [
    "record.head()"
   ]
  },
  {
   "cell_type": "code",
   "execution_count": 125,
   "metadata": {},
   "outputs": [],
   "source": [
    "import pyarrow as pa\n",
    "import pyarrow.parquet as pq\n",
    "\n",
    "# Convert pandas DataFrame to pyarrow Table\n",
    "table = pa.Table.from_pandas(record)\n",
    "\n",
    "# Write pyarrow Table to Parquet file\n",
    "pq.write_table(table, '/Users/samuelbamgbola/Downloads/Crime-HamoyeAI-Capstone-Project/africa_encoded_for_deployment.parquet')"
   ]
  },
  {
   "cell_type": "markdown",
   "metadata": {},
   "source": [
    "### Spliting Data with StratifiedShuffleSplit to maintain the distribution of data among targets."
   ]
  },
  {
   "cell_type": "code",
   "execution_count": 55,
   "metadata": {},
   "outputs": [],
   "source": [
    "from sklearn.model_selection import StratifiedShuffleSplit"
   ]
  },
  {
   "cell_type": "code",
   "execution_count": 56,
   "metadata": {},
   "outputs": [],
   "source": [
    "sss = StratifiedShuffleSplit(n_splits=1, test_size=0.25, random_state=42)"
   ]
  },
  {
   "cell_type": "code",
   "execution_count": 57,
   "metadata": {},
   "outputs": [],
   "source": [
    "for train_index, test_index in sss.split(X_copy, crime['fatalities-binned-encoded']):\n",
    "    train = X_copy.loc[train_index]\n",
    "    test = X_copy.loc[test_index]"
   ]
  },
  {
   "cell_type": "code",
   "execution_count": 58,
   "metadata": {},
   "outputs": [],
   "source": [
    "X_train = train.copy()\n",
    "X_test = test.copy()"
   ]
  },
  {
   "cell_type": "code",
   "execution_count": 73,
   "metadata": {},
   "outputs": [],
   "source": [
    "y_train = crime[['fatalities-binned-encoded']].loc[train_index].values\n",
    "y_test = crime[['fatalities-binned-encoded']].loc[test_index].values"
   ]
  },
  {
   "cell_type": "markdown",
   "metadata": {},
   "source": [
    "## Scaling Training Set with Standard Scaler"
   ]
  },
  {
   "cell_type": "code",
   "execution_count": 60,
   "metadata": {},
   "outputs": [],
   "source": [
    "from sklearn.preprocessing import StandardScaler"
   ]
  },
  {
   "cell_type": "code",
   "execution_count": 61,
   "metadata": {},
   "outputs": [],
   "source": [
    "scaler = StandardScaler()"
   ]
  },
  {
   "cell_type": "code",
   "execution_count": 62,
   "metadata": {},
   "outputs": [],
   "source": [
    "X_train_scaled = scaler.fit_transform(X_train)\n",
    "X_test_scaled = scaler.fit_transform(X_test)"
   ]
  },
  {
   "cell_type": "markdown",
   "metadata": {},
   "source": [
    "## Reducing dimensionality with PCA"
   ]
  },
  {
   "cell_type": "code",
   "execution_count": 63,
   "metadata": {},
   "outputs": [],
   "source": [
    "from sklearn.decomposition import PCA"
   ]
  },
  {
   "cell_type": "code",
   "execution_count": 64,
   "metadata": {},
   "outputs": [
    {
     "data": {
      "text/plain": [
       "[<matplotlib.lines.Line2D at 0x7f96a61c9490>]"
      ]
     },
     "execution_count": 64,
     "metadata": {},
     "output_type": "execute_result"
    },
    {
     "data": {
      "image/png": "[encoded data removed]",
      "text/plain": [
       "<Figure size 640x480 with 1 Axes>"
      ]
     },
     "metadata": {},
     "output_type": "display_data"
    }
   ],
   "source": [
    "pca = PCA(n_components=120)\n",
    "pca.fit(X_train_scaled)\n",
    "#The amount of variance that each PC explains\n",
    "var = pca.explained_variance_ratio_\n",
    "#Cumulative Variance explains\n",
    "var = np.cumsum(np.round(pca.explained_variance_ratio_, decimals=4)*100)\n",
    "plt.plot(var)"
   ]
  },
  {
   "cell_type": "code",
   "execution_count": 65,
   "metadata": {},
   "outputs": [
    {
     "data": {
      "text/plain": [
       "array([  6.43,   9.9 ,  13.05,  15.98,  18.14,  20.18,  22.18,  24.1 ,\n",
       "        25.82,  27.5 ,  29.15,  30.65,  32.07,  33.41,  34.71,  35.92,\n",
       "        37.07,  38.2 ,  39.3 ,  40.33,  41.32,  42.27,  43.21,  44.14,\n",
       "        45.06,  45.97,  46.87,  47.77,  48.66,  49.54,  50.41,  51.28,\n",
       "        52.15,  53.01,  53.87,  54.72,  55.57,  56.42,  57.26,  58.1 ,\n",
       "        58.94,  59.78,  60.61,  61.44,  62.27,  63.1 ,  63.93,  64.76,\n",
       "        65.59,  66.42,  67.25,  68.08,  68.91,  69.74,  70.57,  71.4 ,\n",
       "        72.23,  73.06,  73.89,  74.72,  75.55,  76.38,  77.21,  78.04,\n",
       "        78.86,  79.68,  80.5 ,  81.32,  82.14,  82.95,  83.76,  84.56,\n",
       "        85.36,  86.16,  86.95,  87.74,  88.52,  89.28,  90.04,  90.8 ,\n",
       "        91.52,  92.24,  92.93,  93.61,  94.26,  94.89,  95.51,  96.11,\n",
       "        96.68,  97.21,  97.73,  98.23,  98.69,  99.09,  99.45,  99.73,\n",
       "        99.87,  99.99, 100.03, 100.05, 100.05, 100.05, 100.05, 100.05,\n",
       "       100.05, 100.05, 100.05, 100.05, 100.05, 100.05, 100.05, 100.05,\n",
       "       100.05, 100.05, 100.05, 100.05, 100.05, 100.05, 100.05, 100.05])"
      ]
     },
     "execution_count": 65,
     "metadata": {},
     "output_type": "execute_result"
    }
   ],
   "source": [
    "var"
   ]
  },
  {
   "cell_type": "markdown",
   "metadata": {},
   "source": [
    "#### Best number of components is 98."
   ]
  },
  {
   "cell_type": "code",
   "execution_count": 66,
   "metadata": {},
   "outputs": [],
   "source": [
    "pca = PCA(n_components=98)\n",
    "pca_model = pca.fit(X_train_scaled)\n",
    "X_train_scaled_pca = pca_model.transform(X_train_scaled)"
   ]
  },
  {
   "cell_type": "code",
   "execution_count": 67,
   "metadata": {},
   "outputs": [],
   "source": [
    "X_test_pca = pca.transform(X_test_scaled)"
   ]
  },
  {
   "cell_type": "markdown",
   "metadata": {},
   "source": [
    "## Computing sample weights based on distribution of target variable"
   ]
  },
  {
   "cell_type": "code",
   "execution_count": 68,
   "metadata": {},
   "outputs": [],
   "source": [
    "from sklearn.utils import class_weight"
   ]
  },
  {
   "cell_type": "code",
   "execution_count": 69,
   "metadata": {},
   "outputs": [],
   "source": [
    "classes_weights = class_weight.compute_sample_weight(\n",
    "    class_weight='balanced',\n",
    "    y=y_train\n",
    ")"
   ]
  },
  {
   "cell_type": "markdown",
   "metadata": {},
   "source": [
    "## Training model"
   ]
  },
  {
   "cell_type": "code",
   "execution_count": 70,
   "metadata": {},
   "outputs": [],
   "source": [
    "from xgboost import XGBClassifier"
   ]
  },
  {
   "cell_type": "code",
   "execution_count": 71,
   "metadata": {},
   "outputs": [],
   "source": [
    "model = XGBClassifier(n_estimators=300, n_jobs = -1,booster='gbtree')"
   ]
  },
  {
   "cell_type": "code",
   "execution_count": 74,
   "metadata": {},
   "outputs": [
    {
     "name": "stderr",
     "output_type": "stream",
     "text": [
      "/anaconda/envs/azureml_py38/lib/python3.8/site-packages/xgboost/sklearn.py:888: UserWarning: The use of label encoder in XGBClassifier is deprecated and will be removed in a future release. To remove this warning, do the following: 1) Pass option use_label_encoder=False when constructing XGBClassifier object; and 2) Encode your labels (y) as integers starting with 0, i.e. 0, 1, 2, ..., [num_class - 1].\n",
      "  warnings.warn(label_encoder_deprecation_msg, UserWarning)\n",
      "/anaconda/envs/azureml_py38/lib/python3.8/site-packages/sklearn/preprocessing/_label.py:99: DataConversionWarning: A column-vector y was passed when a 1d array was expected. Please change the shape of y to (n_samples, ), for example using ravel().\n",
      "  y = column_or_1d(y, warn=True)\n",
      "/anaconda/envs/azureml_py38/lib/python3.8/site-packages/sklearn/preprocessing/_label.py:134: DataConversionWarning: A column-vector y was passed when a 1d array was expected. Please change the shape of y to (n_samples, ), for example using ravel().\n",
      "  y = column_or_1d(y, dtype=self.classes_.dtype, warn=True)\n"
     ]
    },
    {
     "name": "stdout",
     "output_type": "stream",
     "text": [
      "[13:20:53] WARNING: /mnt/xgboost/src/learner.cc:1061: Starting in XGBoost 1.3.0, the default evaluation metric used with the objective 'multi:softprob' was changed from 'merror' to 'mlogloss'. Explicitly set eval_metric if you'd like to restore the old behavior.\n"
     ]
    }
   ],
   "source": [
    "xgb_model = model.fit(X_train_scaled_pca, y_train, sample_weight=classes_weights)"
   ]
  },
  {
   "cell_type": "code",
   "execution_count": 75,
   "metadata": {},
   "outputs": [],
   "source": [
    "predictions = xgb_model.predict(X_test_pca)"
   ]
  },
  {
   "cell_type": "code",
   "execution_count": 87,
   "metadata": {},
   "outputs": [],
   "source": [
    "from sklearn.metrics import accuracy_score, classification_report, confusion_matrix, ConfusionMatrixDisplay"
   ]
  },
  {
   "cell_type": "code",
   "execution_count": 79,
   "metadata": {},
   "outputs": [],
   "source": [
    "accuracy = accuracy_score(y_test, predictions)\n",
    "report = classification_report(y_test, predictions)"
   ]
  },
  {
   "cell_type": "code",
   "execution_count": 80,
   "metadata": {
    "jupyter": {
     "outputs_hidden": false,
     "source_hidden": false
    },
    "nteract": {
     "transient": {
      "deleting": false
     }
    }
   },
   "outputs": [
    {
     "name": "stdout",
     "output_type": "stream",
     "text": [
      "              precision    recall  f1-score   support\n",
      "\n",
      "           0       0.17      0.27      0.20       145\n",
      "           1       0.18      0.43      0.25      2560\n",
      "           2       0.37      0.59      0.45      9911\n",
      "           3       0.38      0.48      0.42     12078\n",
      "           4       0.48      0.54      0.50        56\n",
      "           5       0.14      0.26      0.18       283\n",
      "           6       0.96      0.73      0.83     53952\n",
      "\n",
      "    accuracy                           0.66     78985\n",
      "   macro avg       0.38      0.47      0.41     78985\n",
      "weighted avg       0.77      0.66      0.70     78985\n",
      "\n"
     ]
    }
   ],
   "source": [
    "print(report)"
   ]
  },
  {
   "cell_type": "code",
   "execution_count": 88,
   "metadata": {
    "jupyter": {
     "outputs_hidden": false,
     "source_hidden": false
    },
    "nteract": {
     "transient": {
      "deleting": false
     }
    }
   },
   "outputs": [],
   "source": [
    "cm = confusion_matrix(y_test, predictions, labels=xgb_model.classes_)\n",
    "disp = ConfusionMatrixDisplay(confusion_matrix=cm, display_labels=xgb_model.classes_)"
   ]
  },
  {
   "cell_type": "code",
   "execution_count": 89,
   "metadata": {
    "jupyter": {
     "outputs_hidden": false,
     "source_hidden": false
    },
    "nteract": {
     "transient": {
      "deleting": false
     }
    }
   },
   "outputs": [
    {
     "data": {
      "text/plain": [
       "<sklearn.metrics._plot.confusion_matrix.ConfusionMatrixDisplay at 0x7f9778e0caf0>"
      ]
     },
     "execution_count": 89,
     "metadata": {},
     "output_type": "execute_result"
    },
    {
     "data": {
      "image/png": "[encoded data removed]",
      "text/plain": [
       "<Figure size 640x480 with 2 Axes>"
      ]
     },
     "metadata": {},
     "output_type": "display_data"
    }
   ],
   "source": [
    "disp.plot()"
   ]
  },
  {
   "cell_type": "code",
   "execution_count": null,
   "metadata": {},
   "outputs": [],
   "source": []
  }
 ],
 "metadata": {
  "kernel_info": {
   "name": "python38-azureml"
  },
  "kernelspec": {
   "display_name": "Python 3",
   "language": "python",
   "name": "python3"
  },
  "language_info": {
   "codemirror_mode": {
    "name": "ipython",
    "version": 3
   },
   "file_extension": ".py",
   "mimetype": "text/x-python",
   "name": "python",
   "nbconvert_exporter": "python",
   "pygments_lexer": "ipython3",
   "version": "3.7.6"
  },
  "microsoft": {
   "ms_spell_check": {
    "ms_spell_check_language": "en"
   }
  },
  "nteract": {
   "version": "nteract-front-end@1.0.0"
  }
 },
 "nbformat": 4,
 "nbformat_minor": 2
}
