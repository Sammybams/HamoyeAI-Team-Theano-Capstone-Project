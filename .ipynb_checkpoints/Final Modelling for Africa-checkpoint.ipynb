{
 "cells": [
  {
   "cell_type": "code",
   "execution_count": 8,
   "metadata": {},
   "outputs": [],
   "source": [
    "# Importing necessary libraries\n",
    "\n",
    "\n",
    "import numpy as np\n",
    "import pandas as pd\n",
    "import matplotlib.pyplot as plt"
   ]
  },
  {
   "cell_type": "code",
   "execution_count": 4,
   "metadata": {},
   "outputs": [],
   "source": [
    "crime = pd.read_csv(\"/Users/samuelbamgbola/Downloads/Crime-HamoyeAI-Capstone-Project/africa_crime.csv\")"
   ]
  },
  {
   "cell_type": "code",
   "execution_count": 5,
   "metadata": {},
   "outputs": [
    {
     "data": {
      "text/plain": [
       "(315940, 31)"
      ]
     },
     "execution_count": 5,
     "metadata": {},
     "output_type": "execute_result"
    }
   ],
   "source": [
    "crime.shape"
   ]
  },
  {
   "cell_type": "code",
   "execution_count": 6,
   "metadata": {},
   "outputs": [
    {
     "data": {
      "text/html": [
       "<div>\n",
       "<style scoped>\n",
       "    .dataframe tbody tr th:only-of-type {\n",
       "        vertical-align: middle;\n",
       "    }\n",
       "\n",
       "    .dataframe tbody tr th {\n",
       "        vertical-align: top;\n",
       "    }\n",
       "\n",
       "    .dataframe thead th {\n",
       "        text-align: right;\n",
       "    }\n",
       "</style>\n",
       "<table border=\"1\" class=\"dataframe\">\n",
       "  <thead>\n",
       "    <tr style=\"text-align: right;\">\n",
       "      <th></th>\n",
       "      <th>EVENT_ID_CNTY</th>\n",
       "      <th>EVENT_DATE</th>\n",
       "      <th>YEAR</th>\n",
       "      <th>TIME_PRECISION</th>\n",
       "      <th>DISORDER_TYPE</th>\n",
       "      <th>EVENT_TYPE</th>\n",
       "      <th>SUB_EVENT_TYPE</th>\n",
       "      <th>ACTOR1</th>\n",
       "      <th>ASSOC_ACTOR_1</th>\n",
       "      <th>INTER1</th>\n",
       "      <th>...</th>\n",
       "      <th>LOCATION</th>\n",
       "      <th>LATITUDE</th>\n",
       "      <th>LONGITUDE</th>\n",
       "      <th>GEO_PRECISION</th>\n",
       "      <th>SOURCE</th>\n",
       "      <th>SOURCE_SCALE</th>\n",
       "      <th>NOTES</th>\n",
       "      <th>FATALITIES</th>\n",
       "      <th>TAGS</th>\n",
       "      <th>TIMESTAMP</th>\n",
       "    </tr>\n",
       "  </thead>\n",
       "  <tbody>\n",
       "    <tr>\n",
       "      <th>0</th>\n",
       "      <td>ALG1</td>\n",
       "      <td>1997-01-01</td>\n",
       "      <td>1997</td>\n",
       "      <td>1</td>\n",
       "      <td>Political violence</td>\n",
       "      <td>Violence against civilians</td>\n",
       "      <td>Attack</td>\n",
       "      <td>GIA: Armed Islamic Group</td>\n",
       "      <td>NaN</td>\n",
       "      <td>2</td>\n",
       "      <td>...</td>\n",
       "      <td>Douaouda</td>\n",
       "      <td>36.672</td>\n",
       "      <td>2.789</td>\n",
       "      <td>1</td>\n",
       "      <td>Algeria Watch</td>\n",
       "      <td>Other</td>\n",
       "      <td>5 January: Beheading of 5 citizens in Douaouda...</td>\n",
       "      <td>5</td>\n",
       "      <td>NaN</td>\n",
       "      <td>1582579226</td>\n",
       "    </tr>\n",
       "    <tr>\n",
       "      <th>1</th>\n",
       "      <td>ALG2</td>\n",
       "      <td>1997-01-02</td>\n",
       "      <td>1997</td>\n",
       "      <td>1</td>\n",
       "      <td>Political violence</td>\n",
       "      <td>Violence against civilians</td>\n",
       "      <td>Attack</td>\n",
       "      <td>GIA: Armed Islamic Group</td>\n",
       "      <td>NaN</td>\n",
       "      <td>2</td>\n",
       "      <td>...</td>\n",
       "      <td>Hassasna</td>\n",
       "      <td>36.133</td>\n",
       "      <td>0.883</td>\n",
       "      <td>1</td>\n",
       "      <td>Algeria Watch</td>\n",
       "      <td>Other</td>\n",
       "      <td>Two citizens were beheaded in Hassasna.</td>\n",
       "      <td>2</td>\n",
       "      <td>NaN</td>\n",
       "      <td>1582579226</td>\n",
       "    </tr>\n",
       "    <tr>\n",
       "      <th>2</th>\n",
       "      <td>ALG3</td>\n",
       "      <td>1997-01-03</td>\n",
       "      <td>1997</td>\n",
       "      <td>1</td>\n",
       "      <td>Political violence</td>\n",
       "      <td>Violence against civilians</td>\n",
       "      <td>Attack</td>\n",
       "      <td>GIA: Armed Islamic Group</td>\n",
       "      <td>NaN</td>\n",
       "      <td>2</td>\n",
       "      <td>...</td>\n",
       "      <td>Hassi El Abed</td>\n",
       "      <td>34.966</td>\n",
       "      <td>-0.290</td>\n",
       "      <td>1</td>\n",
       "      <td>Algeria Watch</td>\n",
       "      <td>Other</td>\n",
       "      <td>Two citizens were killed in a raid on the vill...</td>\n",
       "      <td>2</td>\n",
       "      <td>NaN</td>\n",
       "      <td>1582579226</td>\n",
       "    </tr>\n",
       "    <tr>\n",
       "      <th>3</th>\n",
       "      <td>ALG4</td>\n",
       "      <td>1997-01-04</td>\n",
       "      <td>1997</td>\n",
       "      <td>1</td>\n",
       "      <td>Political violence</td>\n",
       "      <td>Violence against civilians</td>\n",
       "      <td>Attack</td>\n",
       "      <td>GIA: Armed Islamic Group</td>\n",
       "      <td>NaN</td>\n",
       "      <td>2</td>\n",
       "      <td>...</td>\n",
       "      <td>Blida</td>\n",
       "      <td>36.469</td>\n",
       "      <td>2.829</td>\n",
       "      <td>1</td>\n",
       "      <td>Algeria Watch</td>\n",
       "      <td>Other</td>\n",
       "      <td>4 January: 16 citizens were murdered in the vi...</td>\n",
       "      <td>16</td>\n",
       "      <td>NaN</td>\n",
       "      <td>1582579226</td>\n",
       "    </tr>\n",
       "    <tr>\n",
       "      <th>4</th>\n",
       "      <td>ALG5</td>\n",
       "      <td>1997-01-05</td>\n",
       "      <td>1997</td>\n",
       "      <td>1</td>\n",
       "      <td>Political violence</td>\n",
       "      <td>Violence against civilians</td>\n",
       "      <td>Attack</td>\n",
       "      <td>GIA: Armed Islamic Group</td>\n",
       "      <td>NaN</td>\n",
       "      <td>2</td>\n",
       "      <td>...</td>\n",
       "      <td>Douaouda</td>\n",
       "      <td>36.672</td>\n",
       "      <td>2.789</td>\n",
       "      <td>1</td>\n",
       "      <td>Algeria Watch</td>\n",
       "      <td>Other</td>\n",
       "      <td>5 January: Killing of 18 citizens in the Olivi...</td>\n",
       "      <td>18</td>\n",
       "      <td>NaN</td>\n",
       "      <td>1582579226</td>\n",
       "    </tr>\n",
       "  </tbody>\n",
       "</table>\n",
       "<p>5 rows × 31 columns</p>\n",
       "</div>"
      ],
      "text/plain": [
       "  EVENT_ID_CNTY  EVENT_DATE  YEAR  TIME_PRECISION       DISORDER_TYPE  \\\n",
       "0          ALG1  1997-01-01  1997               1  Political violence   \n",
       "1          ALG2  1997-01-02  1997               1  Political violence   \n",
       "2          ALG3  1997-01-03  1997               1  Political violence   \n",
       "3          ALG4  1997-01-04  1997               1  Political violence   \n",
       "4          ALG5  1997-01-05  1997               1  Political violence   \n",
       "\n",
       "                   EVENT_TYPE SUB_EVENT_TYPE                    ACTOR1  \\\n",
       "0  Violence against civilians         Attack  GIA: Armed Islamic Group   \n",
       "1  Violence against civilians         Attack  GIA: Armed Islamic Group   \n",
       "2  Violence against civilians         Attack  GIA: Armed Islamic Group   \n",
       "3  Violence against civilians         Attack  GIA: Armed Islamic Group   \n",
       "4  Violence against civilians         Attack  GIA: Armed Islamic Group   \n",
       "\n",
       "  ASSOC_ACTOR_1  INTER1  ...       LOCATION LATITUDE  LONGITUDE  \\\n",
       "0           NaN       2  ...       Douaouda   36.672      2.789   \n",
       "1           NaN       2  ...       Hassasna   36.133      0.883   \n",
       "2           NaN       2  ...  Hassi El Abed   34.966     -0.290   \n",
       "3           NaN       2  ...          Blida   36.469      2.829   \n",
       "4           NaN       2  ...       Douaouda   36.672      2.789   \n",
       "\n",
       "   GEO_PRECISION         SOURCE  SOURCE_SCALE  \\\n",
       "0              1  Algeria Watch         Other   \n",
       "1              1  Algeria Watch         Other   \n",
       "2              1  Algeria Watch         Other   \n",
       "3              1  Algeria Watch         Other   \n",
       "4              1  Algeria Watch         Other   \n",
       "\n",
       "                                               NOTES FATALITIES TAGS  \\\n",
       "0  5 January: Beheading of 5 citizens in Douaouda...          5  NaN   \n",
       "1            Two citizens were beheaded in Hassasna.          2  NaN   \n",
       "2  Two citizens were killed in a raid on the vill...          2  NaN   \n",
       "3  4 January: 16 citizens were murdered in the vi...         16  NaN   \n",
       "4  5 January: Killing of 18 citizens in the Olivi...         18  NaN   \n",
       "\n",
       "    TIMESTAMP  \n",
       "0  1582579226  \n",
       "1  1582579226  \n",
       "2  1582579226  \n",
       "3  1582579226  \n",
       "4  1582579226  \n",
       "\n",
       "[5 rows x 31 columns]"
      ]
     },
     "execution_count": 6,
     "metadata": {},
     "output_type": "execute_result"
    }
   ],
   "source": [
    "crime.head()"
   ]
  },
  {
   "cell_type": "code",
   "execution_count": 7,
   "metadata": {},
   "outputs": [
    {
     "data": {
      "text/plain": [
       "EVENT_ID_CNTY              0\n",
       "EVENT_DATE                 0\n",
       "YEAR                       0\n",
       "TIME_PRECISION             0\n",
       "DISORDER_TYPE              0\n",
       "EVENT_TYPE                 0\n",
       "SUB_EVENT_TYPE             0\n",
       "ACTOR1                     0\n",
       "ASSOC_ACTOR_1         231997\n",
       "INTER1                     0\n",
       "ACTOR2                 86136\n",
       "ASSOC_ACTOR_2         253699\n",
       "INTER2                     0\n",
       "INTERACTION                0\n",
       "CIVILIAN_TARGETING    220363\n",
       "ISO                        0\n",
       "REGION                     0\n",
       "COUNTRY                    0\n",
       "ADMIN1                     2\n",
       "ADMIN2                  2451\n",
       "ADMIN3                161453\n",
       "LOCATION                   0\n",
       "LATITUDE                   0\n",
       "LONGITUDE                  0\n",
       "GEO_PRECISION              0\n",
       "SOURCE                     0\n",
       "SOURCE_SCALE               0\n",
       "NOTES                      0\n",
       "FATALITIES                 0\n",
       "TAGS                  255561\n",
       "TIMESTAMP                  0\n",
       "dtype: int64"
      ]
     },
     "execution_count": 7,
     "metadata": {},
     "output_type": "execute_result"
    }
   ],
   "source": [
    "crime.isna().sum()"
   ]
  },
  {
   "cell_type": "code",
   "execution_count": 9,
   "metadata": {},
   "outputs": [],
   "source": [
    "## Checking missing values in different columns"
   ]
  },
  {
   "cell_type": "code",
   "execution_count": 10,
   "metadata": {},
   "outputs": [],
   "source": [
    "missing_admin2 = crime.loc[crime['ADMIN2'].isna()]"
   ]
  },
  {
   "cell_type": "code",
   "execution_count": 11,
   "metadata": {},
   "outputs": [
    {
     "data": {
      "text/plain": [
       "COUNTRY\n",
       "Algeria                                         776\n",
       "Benin                                             1\n",
       "Comoros                                          11\n",
       "Democratic Republic of Congo                    796\n",
       "Lesotho                                         220\n",
       "Mauritius                                       357\n",
       "Mayotte                                         121\n",
       "Nigeria                                           1\n",
       "Republic of Congo                                 1\n",
       "Reunion                                           2\n",
       "Rwanda                                          127\n",
       "Saint Helena, Ascension and Tristan da Cunha      2\n",
       "Sao Tome and Principe                            25\n",
       "Seychelles                                       11\n",
       "Name: COUNTRY, dtype: int64"
      ]
     },
     "execution_count": 11,
     "metadata": {},
     "output_type": "execute_result"
    }
   ],
   "source": [
    "missing_admin2.groupby(['COUNTRY'])['COUNTRY'].count()"
   ]
  },
  {
   "cell_type": "code",
   "execution_count": 12,
   "metadata": {},
   "outputs": [
    {
     "data": {
      "text/html": [
       "<div>\n",
       "<style scoped>\n",
       "    .dataframe tbody tr th:only-of-type {\n",
       "        vertical-align: middle;\n",
       "    }\n",
       "\n",
       "    .dataframe tbody tr th {\n",
       "        vertical-align: top;\n",
       "    }\n",
       "\n",
       "    .dataframe thead th {\n",
       "        text-align: right;\n",
       "    }\n",
       "</style>\n",
       "<table border=\"1\" class=\"dataframe\">\n",
       "  <thead>\n",
       "    <tr style=\"text-align: right;\">\n",
       "      <th></th>\n",
       "      <th>ADMIN1</th>\n",
       "      <th>ADMIN2</th>\n",
       "      <th>ADMIN3</th>\n",
       "      <th>LOCATION</th>\n",
       "      <th>LATITUDE</th>\n",
       "      <th>LONGITUDE</th>\n",
       "    </tr>\n",
       "  </thead>\n",
       "  <tbody>\n",
       "    <tr>\n",
       "      <th>176151</th>\n",
       "      <td>Bel Air</td>\n",
       "      <td>NaN</td>\n",
       "      <td>NaN</td>\n",
       "      <td>Victoria</td>\n",
       "      <td>-4.623</td>\n",
       "      <td>55.452</td>\n",
       "    </tr>\n",
       "    <tr>\n",
       "      <th>176152</th>\n",
       "      <td>Bel Air</td>\n",
       "      <td>NaN</td>\n",
       "      <td>NaN</td>\n",
       "      <td>Victoria</td>\n",
       "      <td>-4.623</td>\n",
       "      <td>55.452</td>\n",
       "    </tr>\n",
       "    <tr>\n",
       "      <th>176153</th>\n",
       "      <td>Bel Air</td>\n",
       "      <td>NaN</td>\n",
       "      <td>NaN</td>\n",
       "      <td>Victoria</td>\n",
       "      <td>-4.623</td>\n",
       "      <td>55.452</td>\n",
       "    </tr>\n",
       "    <tr>\n",
       "      <th>176154</th>\n",
       "      <td>Bel Air</td>\n",
       "      <td>NaN</td>\n",
       "      <td>NaN</td>\n",
       "      <td>Victoria</td>\n",
       "      <td>-4.623</td>\n",
       "      <td>55.452</td>\n",
       "    </tr>\n",
       "    <tr>\n",
       "      <th>176155</th>\n",
       "      <td>Bel Air</td>\n",
       "      <td>NaN</td>\n",
       "      <td>NaN</td>\n",
       "      <td>Victoria</td>\n",
       "      <td>-4.623</td>\n",
       "      <td>55.452</td>\n",
       "    </tr>\n",
       "    <tr>\n",
       "      <th>176156</th>\n",
       "      <td>Bel Air</td>\n",
       "      <td>NaN</td>\n",
       "      <td>NaN</td>\n",
       "      <td>Victoria</td>\n",
       "      <td>-4.623</td>\n",
       "      <td>55.452</td>\n",
       "    </tr>\n",
       "    <tr>\n",
       "      <th>176157</th>\n",
       "      <td>Bel Air</td>\n",
       "      <td>NaN</td>\n",
       "      <td>NaN</td>\n",
       "      <td>Victoria</td>\n",
       "      <td>-4.623</td>\n",
       "      <td>55.452</td>\n",
       "    </tr>\n",
       "    <tr>\n",
       "      <th>176158</th>\n",
       "      <td>Mont Fleuri</td>\n",
       "      <td>NaN</td>\n",
       "      <td>NaN</td>\n",
       "      <td>Mont Fleuri</td>\n",
       "      <td>-4.633</td>\n",
       "      <td>55.458</td>\n",
       "    </tr>\n",
       "    <tr>\n",
       "      <th>176159</th>\n",
       "      <td>Bel Air</td>\n",
       "      <td>NaN</td>\n",
       "      <td>NaN</td>\n",
       "      <td>Bel Air</td>\n",
       "      <td>-4.629</td>\n",
       "      <td>55.445</td>\n",
       "    </tr>\n",
       "    <tr>\n",
       "      <th>176160</th>\n",
       "      <td>Bel Air</td>\n",
       "      <td>NaN</td>\n",
       "      <td>NaN</td>\n",
       "      <td>Victoria</td>\n",
       "      <td>-4.623</td>\n",
       "      <td>55.452</td>\n",
       "    </tr>\n",
       "    <tr>\n",
       "      <th>176161</th>\n",
       "      <td>Baie Lazare</td>\n",
       "      <td>NaN</td>\n",
       "      <td>NaN</td>\n",
       "      <td>Anse La Mouche</td>\n",
       "      <td>-4.735</td>\n",
       "      <td>55.492</td>\n",
       "    </tr>\n",
       "  </tbody>\n",
       "</table>\n",
       "</div>"
      ],
      "text/plain": [
       "             ADMIN1 ADMIN2 ADMIN3        LOCATION  LATITUDE  LONGITUDE\n",
       "176151      Bel Air    NaN    NaN        Victoria    -4.623     55.452\n",
       "176152      Bel Air    NaN    NaN        Victoria    -4.623     55.452\n",
       "176153      Bel Air    NaN    NaN        Victoria    -4.623     55.452\n",
       "176154      Bel Air    NaN    NaN        Victoria    -4.623     55.452\n",
       "176155      Bel Air    NaN    NaN        Victoria    -4.623     55.452\n",
       "176156      Bel Air    NaN    NaN        Victoria    -4.623     55.452\n",
       "176157      Bel Air    NaN    NaN        Victoria    -4.623     55.452\n",
       "176158  Mont Fleuri    NaN    NaN     Mont Fleuri    -4.633     55.458\n",
       "176159      Bel Air    NaN    NaN         Bel Air    -4.629     55.445\n",
       "176160      Bel Air    NaN    NaN        Victoria    -4.623     55.452\n",
       "176161  Baie Lazare    NaN    NaN  Anse La Mouche    -4.735     55.492"
      ]
     },
     "execution_count": 12,
     "metadata": {},
     "output_type": "execute_result"
    }
   ],
   "source": [
    "crime.loc[crime['COUNTRY']=='Seychelles'][['ADMIN1', 'ADMIN2', 'ADMIN3', 'LOCATION', 'LATITUDE', 'LONGITUDE']]"
   ]
  },
  {
   "cell_type": "markdown",
   "metadata": {},
   "source": [
    "### Defining Features for Selection"
   ]
  },
  {
   "cell_type": "code",
   "execution_count": 13,
   "metadata": {},
   "outputs": [],
   "source": [
    "features = ['DISORDER_TYPE', 'REGION', 'COUNTRY', 'ADMIN1', 'LOCATION', 'EVENT_TYPE', 'SUB_EVENT_TYPE',\n",
    "            'ACTOR1', 'INTER1', 'INTER2', 'INTERACTION']\n",
    "target = ['FATALITIES']"
   ]
  },
  {
   "cell_type": "code",
   "execution_count": 15,
   "metadata": {},
   "outputs": [
    {
     "data": {
      "text/plain": [
       "COUNTRY\n",
       "Djibouti        1\n",
       "Ethiopia        4\n",
       "Kenya         530\n",
       "Somalia     11096\n",
       "Tanzania        6\n",
       "Uganda          3\n",
       "Name: COUNTRY, dtype: int64"
      ]
     },
     "execution_count": 15,
     "metadata": {},
     "output_type": "execute_result"
    }
   ],
   "source": [
    "crime.loc[crime['ACTOR1']=='Al Shabaab'].groupby('COUNTRY')['COUNTRY'].count()"
   ]
  },
  {
   "cell_type": "code",
   "execution_count": 16,
   "metadata": {},
   "outputs": [
    {
     "data": {
      "text/plain": [
       "ACTOR1\n",
       "Al Shabaab    19739\n",
       "Name: FATALITIES, dtype: int64"
      ]
     },
     "execution_count": 16,
     "metadata": {},
     "output_type": "execute_result"
    }
   ],
   "source": [
    "crime.loc[crime['ACTOR1']=='Al Shabaab'].groupby('ACTOR1')['FATALITIES'].sum()"
   ]
  },
  {
   "cell_type": "markdown",
   "metadata": {},
   "source": [
    "### Checking Missing Values in ADMIN1"
   ]
  },
  {
   "cell_type": "code",
   "execution_count": 17,
   "metadata": {},
   "outputs": [],
   "source": [
    "missing_admin1 = crime.loc[crime['ADMIN1'].isna()]"
   ]
  },
  {
   "cell_type": "code",
   "execution_count": 18,
   "metadata": {},
   "outputs": [
    {
     "data": {
      "text/html": [
       "<div>\n",
       "<style scoped>\n",
       "    .dataframe tbody tr th:only-of-type {\n",
       "        vertical-align: middle;\n",
       "    }\n",
       "\n",
       "    .dataframe tbody tr th {\n",
       "        vertical-align: top;\n",
       "    }\n",
       "\n",
       "    .dataframe thead th {\n",
       "        text-align: right;\n",
       "    }\n",
       "</style>\n",
       "<table border=\"1\" class=\"dataframe\">\n",
       "  <thead>\n",
       "    <tr style=\"text-align: right;\">\n",
       "      <th></th>\n",
       "      <th>COUNTRY</th>\n",
       "      <th>ADMIN1</th>\n",
       "      <th>ADMIN2</th>\n",
       "      <th>ADMIN3</th>\n",
       "      <th>LOCATION</th>\n",
       "      <th>LATITUDE</th>\n",
       "      <th>LONGITUDE</th>\n",
       "    </tr>\n",
       "  </thead>\n",
       "  <tbody>\n",
       "    <tr>\n",
       "      <th>71777</th>\n",
       "      <td>Benin</td>\n",
       "      <td>NaN</td>\n",
       "      <td>NaN</td>\n",
       "      <td>NaN</td>\n",
       "      <td>Coast of Benin</td>\n",
       "      <td>6.237</td>\n",
       "      <td>2.164</td>\n",
       "    </tr>\n",
       "    <tr>\n",
       "      <th>155784</th>\n",
       "      <td>Nigeria</td>\n",
       "      <td>NaN</td>\n",
       "      <td>NaN</td>\n",
       "      <td>NaN</td>\n",
       "      <td>Gulf of Guinea</td>\n",
       "      <td>2.856</td>\n",
       "      <td>1.328</td>\n",
       "    </tr>\n",
       "  </tbody>\n",
       "</table>\n",
       "</div>"
      ],
      "text/plain": [
       "        COUNTRY ADMIN1 ADMIN2 ADMIN3        LOCATION  LATITUDE  LONGITUDE\n",
       "71777     Benin    NaN    NaN    NaN  Coast of Benin     6.237      2.164\n",
       "155784  Nigeria    NaN    NaN    NaN  Gulf of Guinea     2.856      1.328"
      ]
     },
     "execution_count": 18,
     "metadata": {},
     "output_type": "execute_result"
    }
   ],
   "source": [
    "missing_admin1[['COUNTRY', 'ADMIN1', 'ADMIN2', 'ADMIN3', 'LOCATION', 'LATITUDE', 'LONGITUDE']]"
   ]
  },
  {
   "cell_type": "code",
   "execution_count": 19,
   "metadata": {},
   "outputs": [
    {
     "data": {
      "text/html": [
       "<div>\n",
       "<style scoped>\n",
       "    .dataframe tbody tr th:only-of-type {\n",
       "        vertical-align: middle;\n",
       "    }\n",
       "\n",
       "    .dataframe tbody tr th {\n",
       "        vertical-align: top;\n",
       "    }\n",
       "\n",
       "    .dataframe thead th {\n",
       "        text-align: right;\n",
       "    }\n",
       "</style>\n",
       "<table border=\"1\" class=\"dataframe\">\n",
       "  <thead>\n",
       "    <tr style=\"text-align: right;\">\n",
       "      <th></th>\n",
       "      <th>EVENT_ID_CNTY</th>\n",
       "      <th>EVENT_DATE</th>\n",
       "      <th>YEAR</th>\n",
       "      <th>TIME_PRECISION</th>\n",
       "      <th>DISORDER_TYPE</th>\n",
       "      <th>EVENT_TYPE</th>\n",
       "      <th>SUB_EVENT_TYPE</th>\n",
       "      <th>ACTOR1</th>\n",
       "      <th>ASSOC_ACTOR_1</th>\n",
       "      <th>INTER1</th>\n",
       "      <th>...</th>\n",
       "      <th>LOCATION</th>\n",
       "      <th>LATITUDE</th>\n",
       "      <th>LONGITUDE</th>\n",
       "      <th>GEO_PRECISION</th>\n",
       "      <th>SOURCE</th>\n",
       "      <th>SOURCE_SCALE</th>\n",
       "      <th>NOTES</th>\n",
       "      <th>FATALITIES</th>\n",
       "      <th>TAGS</th>\n",
       "      <th>TIMESTAMP</th>\n",
       "    </tr>\n",
       "  </thead>\n",
       "  <tbody>\n",
       "    <tr>\n",
       "      <th>71777</th>\n",
       "      <td>BEN400</td>\n",
       "      <td>2021-05-31</td>\n",
       "      <td>2021</td>\n",
       "      <td>1</td>\n",
       "      <td>Political violence</td>\n",
       "      <td>Violence against civilians</td>\n",
       "      <td>Attack</td>\n",
       "      <td>Pirates (Benin)</td>\n",
       "      <td>NaN</td>\n",
       "      <td>3</td>\n",
       "      <td>...</td>\n",
       "      <td>Coast of Benin</td>\n",
       "      <td>6.237</td>\n",
       "      <td>2.164</td>\n",
       "      <td>3</td>\n",
       "      <td>AFP; Xinhua; Actu Benin</td>\n",
       "      <td>Subnational-International</td>\n",
       "      <td>On 31 May 2021, sea pirates attacked a fishing...</td>\n",
       "      <td>0</td>\n",
       "      <td>NaN</td>\n",
       "      <td>1624310472</td>\n",
       "    </tr>\n",
       "  </tbody>\n",
       "</table>\n",
       "<p>1 rows × 31 columns</p>\n",
       "</div>"
      ],
      "text/plain": [
       "      EVENT_ID_CNTY  EVENT_DATE  YEAR  TIME_PRECISION       DISORDER_TYPE  \\\n",
       "71777        BEN400  2021-05-31  2021               1  Political violence   \n",
       "\n",
       "                       EVENT_TYPE SUB_EVENT_TYPE           ACTOR1  \\\n",
       "71777  Violence against civilians         Attack  Pirates (Benin)   \n",
       "\n",
       "      ASSOC_ACTOR_1  INTER1  ...        LOCATION LATITUDE  LONGITUDE  \\\n",
       "71777           NaN       3  ...  Coast of Benin    6.237      2.164   \n",
       "\n",
       "       GEO_PRECISION                   SOURCE               SOURCE_SCALE  \\\n",
       "71777              3  AFP; Xinhua; Actu Benin  Subnational-International   \n",
       "\n",
       "                                                   NOTES FATALITIES TAGS  \\\n",
       "71777  On 31 May 2021, sea pirates attacked a fishing...          0  NaN   \n",
       "\n",
       "        TIMESTAMP  \n",
       "71777  1624310472  \n",
       "\n",
       "[1 rows x 31 columns]"
      ]
     },
     "execution_count": 19,
     "metadata": {},
     "output_type": "execute_result"
    }
   ],
   "source": [
    "crime.loc[crime['LOCATION']=='Coast of Benin']"
   ]
  },
  {
   "cell_type": "code",
   "execution_count": 20,
   "metadata": {},
   "outputs": [
    {
     "data": {
      "text/html": [
       "<div>\n",
       "<style scoped>\n",
       "    .dataframe tbody tr th:only-of-type {\n",
       "        vertical-align: middle;\n",
       "    }\n",
       "\n",
       "    .dataframe tbody tr th {\n",
       "        vertical-align: top;\n",
       "    }\n",
       "\n",
       "    .dataframe thead th {\n",
       "        text-align: right;\n",
       "    }\n",
       "</style>\n",
       "<table border=\"1\" class=\"dataframe\">\n",
       "  <thead>\n",
       "    <tr style=\"text-align: right;\">\n",
       "      <th></th>\n",
       "      <th>EVENT_ID_CNTY</th>\n",
       "      <th>EVENT_DATE</th>\n",
       "      <th>YEAR</th>\n",
       "      <th>TIME_PRECISION</th>\n",
       "      <th>DISORDER_TYPE</th>\n",
       "      <th>EVENT_TYPE</th>\n",
       "      <th>SUB_EVENT_TYPE</th>\n",
       "      <th>ACTOR1</th>\n",
       "      <th>ASSOC_ACTOR_1</th>\n",
       "      <th>INTER1</th>\n",
       "      <th>...</th>\n",
       "      <th>LOCATION</th>\n",
       "      <th>LATITUDE</th>\n",
       "      <th>LONGITUDE</th>\n",
       "      <th>GEO_PRECISION</th>\n",
       "      <th>SOURCE</th>\n",
       "      <th>SOURCE_SCALE</th>\n",
       "      <th>NOTES</th>\n",
       "      <th>FATALITIES</th>\n",
       "      <th>TAGS</th>\n",
       "      <th>TIMESTAMP</th>\n",
       "    </tr>\n",
       "  </thead>\n",
       "  <tbody>\n",
       "    <tr>\n",
       "      <th>155784</th>\n",
       "      <td>NIG27797</td>\n",
       "      <td>2018-11-11</td>\n",
       "      <td>2018</td>\n",
       "      <td>1</td>\n",
       "      <td>Political violence</td>\n",
       "      <td>Battles</td>\n",
       "      <td>Armed clash</td>\n",
       "      <td>Military Forces of Nigeria (2015-)</td>\n",
       "      <td>NaN</td>\n",
       "      <td>1</td>\n",
       "      <td>...</td>\n",
       "      <td>Gulf of Guinea</td>\n",
       "      <td>2.856</td>\n",
       "      <td>1.328</td>\n",
       "      <td>3</td>\n",
       "      <td>Risk and Strategic Management, Corporation</td>\n",
       "      <td>Local partner-International</td>\n",
       "      <td>On 11 November 2018, the Nigerian Navy interce...</td>\n",
       "      <td>0</td>\n",
       "      <td>NaN</td>\n",
       "      <td>1666026860</td>\n",
       "    </tr>\n",
       "  </tbody>\n",
       "</table>\n",
       "<p>1 rows × 31 columns</p>\n",
       "</div>"
      ],
      "text/plain": [
       "       EVENT_ID_CNTY  EVENT_DATE  YEAR  TIME_PRECISION       DISORDER_TYPE  \\\n",
       "155784      NIG27797  2018-11-11  2018               1  Political violence   \n",
       "\n",
       "       EVENT_TYPE SUB_EVENT_TYPE                              ACTOR1  \\\n",
       "155784    Battles    Armed clash  Military Forces of Nigeria (2015-)   \n",
       "\n",
       "       ASSOC_ACTOR_1  INTER1  ...        LOCATION LATITUDE  LONGITUDE  \\\n",
       "155784           NaN       1  ...  Gulf of Guinea    2.856      1.328   \n",
       "\n",
       "        GEO_PRECISION                                      SOURCE  \\\n",
       "155784              3  Risk and Strategic Management, Corporation   \n",
       "\n",
       "                       SOURCE_SCALE  \\\n",
       "155784  Local partner-International   \n",
       "\n",
       "                                                    NOTES FATALITIES TAGS  \\\n",
       "155784  On 11 November 2018, the Nigerian Navy interce...          0  NaN   \n",
       "\n",
       "         TIMESTAMP  \n",
       "155784  1666026860  \n",
       "\n",
       "[1 rows x 31 columns]"
      ]
     },
     "execution_count": 20,
     "metadata": {},
     "output_type": "execute_result"
    }
   ],
   "source": [
    "crime.loc[crime['LOCATION']=='Gulf of Guinea']"
   ]
  },
  {
   "cell_type": "markdown",
   "metadata": {},
   "source": [
    "### Feature Selection"
   ]
  },
  {
   "cell_type": "code",
   "execution_count": 21,
   "metadata": {},
   "outputs": [],
   "source": [
    "X = crime[features]\n",
    "y = crime[\"FATALITIES\"]"
   ]
  },
  {
   "cell_type": "code",
   "execution_count": 22,
   "metadata": {},
   "outputs": [
    {
     "data": {
      "text/plain": [
       "(315940, 11)"
      ]
     },
     "execution_count": 22,
     "metadata": {},
     "output_type": "execute_result"
    }
   ],
   "source": [
    "X.shape"
   ]
  },
  {
   "cell_type": "code",
   "execution_count": 23,
   "metadata": {},
   "outputs": [
    {
     "data": {
      "text/plain": [
       "DISORDER_TYPE     0\n",
       "REGION            0\n",
       "COUNTRY           0\n",
       "ADMIN1            2\n",
       "LOCATION          0\n",
       "EVENT_TYPE        0\n",
       "SUB_EVENT_TYPE    0\n",
       "ACTOR1            0\n",
       "INTER1            0\n",
       "INTER2            0\n",
       "INTERACTION       0\n",
       "dtype: int64"
      ]
     },
     "execution_count": 23,
     "metadata": {},
     "output_type": "execute_result"
    }
   ],
   "source": [
    "X.isna().sum()"
   ]
  },
  {
   "cell_type": "code",
   "execution_count": 24,
   "metadata": {},
   "outputs": [
    {
     "name": "stderr",
     "output_type": "stream",
     "text": [
      "/Users/samuelbamgbola/opt/anaconda3/lib/python3.7/site-packages/pandas/core/indexing.py:1817: SettingWithCopyWarning: \n",
      "A value is trying to be set on a copy of a slice from a DataFrame.\n",
      "Try using .loc[row_indexer,col_indexer] = value instead\n",
      "\n",
      "See the caveats in the documentation: https://pandas.pydata.org/pandas-docs/stable/user_guide/indexing.html#returning-a-view-versus-a-copy\n",
      "  self._setitem_single_column(loc, value, pi)\n"
     ]
    }
   ],
   "source": [
    "# Dealing with missing values in ADMIN1\n",
    "\n",
    "X.loc[71777:71777,'ADMIN1'] = \"Oueme\"\n",
    "X.loc[155784:155784,'ADMIN1'] = \"Bayelsa\""
   ]
  },
  {
   "cell_type": "code",
   "execution_count": 25,
   "metadata": {},
   "outputs": [
    {
     "data": {
      "text/plain": [
       "DISORDER_TYPE     0\n",
       "REGION            0\n",
       "COUNTRY           0\n",
       "ADMIN1            0\n",
       "LOCATION          0\n",
       "EVENT_TYPE        0\n",
       "SUB_EVENT_TYPE    0\n",
       "ACTOR1            0\n",
       "INTER1            0\n",
       "INTER2            0\n",
       "INTERACTION       0\n",
       "dtype: int64"
      ]
     },
     "execution_count": 25,
     "metadata": {},
     "output_type": "execute_result"
    }
   ],
   "source": [
    "X.isna().sum()"
   ]
  },
  {
   "cell_type": "markdown",
   "metadata": {},
   "source": [
    "### Performing Binning on Fatalities"
   ]
  },
  {
   "cell_type": "code",
   "execution_count": 26,
   "metadata": {},
   "outputs": [],
   "source": [
    "fatalities_bins = [-1, 0, 1, 10, 50, 100, 500, 1350]\n",
    "group_names = [\"NO_FATALITY\", \"1_FATALITY\", \"2_TO_10\", \"11_TO_50\", \"51_TO_100\", \"101_TO_500\", \"501_TO_1350\"]"
   ]
  },
  {
   "cell_type": "code",
   "execution_count": null,
   "metadata": {},
   "outputs": [],
   "source": []
  }
 ],
 "metadata": {
  "kernelspec": {
   "display_name": "Python 3",
   "language": "python",
   "name": "python3"
  },
  "language_info": {
   "codemirror_mode": {
    "name": "ipython",
    "version": 3
   },
   "file_extension": ".py",
   "mimetype": "text/x-python",
   "name": "python",
   "nbconvert_exporter": "python",
   "pygments_lexer": "ipython3",
   "version": "3.7.6"
  }
 },
 "nbformat": 4,
 "nbformat_minor": 2
}
